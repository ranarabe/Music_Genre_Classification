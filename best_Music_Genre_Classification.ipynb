{
  "cells": [
    {
      "cell_type": "markdown",
      "metadata": {
        "id": "Ddo1H4afQvOe"
      },
      "source": [
        "# **1.discover our dataset:**"
      ]
    },
    {
      "cell_type": "markdown",
      "metadata": {
        "id": "X1QetgE4Q11M"
      },
      "source": [
        "###**Context**\n",
        "**artist:** Name of the Artist.\n",
        "\n",
        "**song:**Name of the Track.\n",
        "\n",
        "**popularity:** The higher the value the more popular the song is.\n",
        "\n",
        "**danceability:** Danceability describes how suitable a track is for dancing based on a combination of musical elements including tempo, rhythm\n",
        "\n",
        "**energy:** Energy is a measure from 0.0 to 1.0 and represents a perceptual measure of intensity and activity.\n",
        "\n",
        "**key:** The key the track is in. Integers map to pitches using standard Pitch Class notation. E.g. 0 = C, 1 = C♯/D♭, 2 = D, and so on..\n",
        "\n",
        "**loudness:** The overall loudness of a track in decibels (dB). Loudness values are averaged across the entire track and are useful for comparing relative\n",
        "\n",
        "**mode:** Mode indicates the modality (major or minor) of a track, the type of scale from which its melodic content is derived. Major is represented by 1 and minor is 0.\n",
        "\n",
        "**speechiness:** Speechiness detects the presence of spoken words in a track. The more exclusively speech-like the recording (e.g. talk show, audio book, poetry), the closer to 1.0 the attribute value. Values above 0.66 describe tracks that are probably made entirely of spoken words. Values between 0.33 and 0.66 describe tracks that may contain both music and speech, either in sections or layered, including such cases as rap music. Values below 0.33 most likely represent music and other non-speech-like tracks.\n",
        "\n",
        "**acousticness:** A confidence measure from 0.0 to 1.0 of whether the track is acoustic. 1.0 represents high confidence the track is acoustic.\n",
        "\n",
        "**instrumentalness:** Predicts whether a track contains no vocals. \"Ooh\" and \"aah\" sounds are treated as instrumental in this context. Rap or spoken word tracks are clearly \"vocal\". The closer the instrumentalness value is to 1.0, the greater likelihood the track contains no vocal content. Values above 0.5 are intended to represent instrumental tracks, but confidence is higher as the value approaches 1.0.\n",
        "\n",
        "**liveness:** Detects the presence of an audience in the recording. Higher liveness values represent an increased probability that the track was performed live. A value above 0.8 provides strong likelihood that the track is live.\n",
        "\n",
        "**valence:** A measure from 0.0 to 1.0 describing the musical positiveness conveyed by a track. Tracks with high valence sound more positive (e.g. happy, cheerful, euphoric), while tracks with low valence sound more negative (e.g. sad, depressed, angry).\n",
        "\n",
        "**tempo:** The overall estimated tempo of a track in beats per minute (BPM). In musical terminology, tempo is the speed or pace of a given piece and derives directly from the average beat duration.\n",
        "\n",
        "**duration in milliseconds:**Time of the song\n",
        "\n",
        "**time_signature:** a notational convention used in Western musical notation to specify how many beats (pulses) are contained in each measure (bar), and which note value is equivalent to a beat.\n",
        "\n",
        "**Class:**Genre of the track."
      ]
    },
    {
      "cell_type": "markdown",
      "metadata": {
        "id": "qLfuhx1TR6Vc"
      },
      "source": [
        "# **First step: Exploratory Data Analysis – EDA :**"
      ]
    },
    {
      "cell_type": "markdown",
      "metadata": {
        "id": "hYmJE-jhR_pK"
      },
      "source": [
        "IMPORT LIBRARIES"
      ]
    },
    {
      "cell_type": "code",
      "execution_count": 339,
      "metadata": {
        "id": "tPBWPaECPeq8"
      },
      "outputs": [],
      "source": [
        "#Import libraries \n",
        "import pandas as pd\n",
        "import numpy as np\n",
        "import matplotlib.pyplot as plt\n",
        "import seaborn as sns\n",
        "from sklearn.model_selection import train_test_split"
      ]
    },
    {
      "cell_type": "markdown",
      "metadata": {
        "id": "nJMvOpGWSEIa"
      },
      "source": [
        "READING THE DATA"
      ]
    },
    {
      "cell_type": "code",
      "execution_count": 340,
      "metadata": {
        "id": "kZotWtyxQy2K"
      },
      "outputs": [],
      "source": [
        "data=pd.read_csv(\"train.csv\")"
      ]
    },
    {
      "cell_type": "markdown",
      "metadata": {
        "id": "fVm4ibZPSR-T"
      },
      "source": [
        "## **Basic Data Exploration**"
      ]
    },
    {
      "cell_type": "markdown",
      "metadata": {
        "id": "TAreNNWQSVkj"
      },
      "source": [
        "**1- head of the dataset**"
      ]
    },
    {
      "cell_type": "code",
      "execution_count": 341,
      "metadata": {
        "colab": {
          "base_uri": "https://localhost:8080/",
          "height": 0
        },
        "id": "ZTKHm2p6SJDz",
        "outputId": "d36df224-cc43-46b9-8a41-0c2ef492870d"
      },
      "outputs": [
        {
          "data": {
            "text/html": [
              "\n",
              "  <div id=\"df-50af7a95-80d8-4df0-84d4-c980542578fe\">\n",
              "    <div class=\"colab-df-container\">\n",
              "      <div>\n",
              "<style scoped>\n",
              "    .dataframe tbody tr th:only-of-type {\n",
              "        vertical-align: middle;\n",
              "    }\n",
              "\n",
              "    .dataframe tbody tr th {\n",
              "        vertical-align: top;\n",
              "    }\n",
              "\n",
              "    .dataframe thead th {\n",
              "        text-align: right;\n",
              "    }\n",
              "</style>\n",
              "<table border=\"1\" class=\"dataframe\">\n",
              "  <thead>\n",
              "    <tr style=\"text-align: right;\">\n",
              "      <th></th>\n",
              "      <th>Id</th>\n",
              "      <th>Artist Name</th>\n",
              "      <th>Track Name</th>\n",
              "      <th>Popularity</th>\n",
              "      <th>danceability</th>\n",
              "      <th>energy</th>\n",
              "      <th>key</th>\n",
              "      <th>loudness</th>\n",
              "      <th>mode</th>\n",
              "      <th>speechiness</th>\n",
              "      <th>acousticness</th>\n",
              "      <th>instrumentalness</th>\n",
              "      <th>liveness</th>\n",
              "      <th>valence</th>\n",
              "      <th>tempo</th>\n",
              "      <th>duration_in min/ms</th>\n",
              "      <th>time_signature</th>\n",
              "      <th>Class</th>\n",
              "    </tr>\n",
              "  </thead>\n",
              "  <tbody>\n",
              "    <tr>\n",
              "      <th>0</th>\n",
              "      <td>1</td>\n",
              "      <td>Marina Maximilian</td>\n",
              "      <td>Not Afraid</td>\n",
              "      <td>37.0</td>\n",
              "      <td>0.334</td>\n",
              "      <td>0.536</td>\n",
              "      <td>9.0</td>\n",
              "      <td>-6.649</td>\n",
              "      <td>0</td>\n",
              "      <td>0.0381</td>\n",
              "      <td>0.378000</td>\n",
              "      <td>NaN</td>\n",
              "      <td>0.106</td>\n",
              "      <td>0.235</td>\n",
              "      <td>152.429</td>\n",
              "      <td>204947.0</td>\n",
              "      <td>4</td>\n",
              "      <td>9</td>\n",
              "    </tr>\n",
              "    <tr>\n",
              "      <th>1</th>\n",
              "      <td>2</td>\n",
              "      <td>The Black Keys</td>\n",
              "      <td>Howlin' for You</td>\n",
              "      <td>67.0</td>\n",
              "      <td>0.725</td>\n",
              "      <td>0.747</td>\n",
              "      <td>11.0</td>\n",
              "      <td>-5.545</td>\n",
              "      <td>1</td>\n",
              "      <td>0.0876</td>\n",
              "      <td>0.027200</td>\n",
              "      <td>0.0468</td>\n",
              "      <td>0.104</td>\n",
              "      <td>0.380</td>\n",
              "      <td>132.921</td>\n",
              "      <td>191956.0</td>\n",
              "      <td>4</td>\n",
              "      <td>6</td>\n",
              "    </tr>\n",
              "    <tr>\n",
              "      <th>2</th>\n",
              "      <td>3</td>\n",
              "      <td>Royal &amp; the Serpent</td>\n",
              "      <td>phuck u</td>\n",
              "      <td>NaN</td>\n",
              "      <td>0.584</td>\n",
              "      <td>0.804</td>\n",
              "      <td>7.0</td>\n",
              "      <td>-6.094</td>\n",
              "      <td>1</td>\n",
              "      <td>0.0619</td>\n",
              "      <td>0.000968</td>\n",
              "      <td>0.6350</td>\n",
              "      <td>0.284</td>\n",
              "      <td>0.635</td>\n",
              "      <td>159.953</td>\n",
              "      <td>161037.0</td>\n",
              "      <td>4</td>\n",
              "      <td>10</td>\n",
              "    </tr>\n",
              "    <tr>\n",
              "      <th>3</th>\n",
              "      <td>4</td>\n",
              "      <td>Detroit Blues Band</td>\n",
              "      <td>Missing You</td>\n",
              "      <td>12.0</td>\n",
              "      <td>0.515</td>\n",
              "      <td>0.308</td>\n",
              "      <td>NaN</td>\n",
              "      <td>-14.711</td>\n",
              "      <td>1</td>\n",
              "      <td>0.0312</td>\n",
              "      <td>0.907000</td>\n",
              "      <td>0.0213</td>\n",
              "      <td>0.300</td>\n",
              "      <td>0.501</td>\n",
              "      <td>172.472</td>\n",
              "      <td>298093.0</td>\n",
              "      <td>3</td>\n",
              "      <td>2</td>\n",
              "    </tr>\n",
              "    <tr>\n",
              "      <th>4</th>\n",
              "      <td>5</td>\n",
              "      <td>Coast Contra</td>\n",
              "      <td>My Lady</td>\n",
              "      <td>48.0</td>\n",
              "      <td>0.565</td>\n",
              "      <td>0.777</td>\n",
              "      <td>6.0</td>\n",
              "      <td>-5.096</td>\n",
              "      <td>0</td>\n",
              "      <td>0.2490</td>\n",
              "      <td>0.183000</td>\n",
              "      <td>NaN</td>\n",
              "      <td>0.211</td>\n",
              "      <td>0.619</td>\n",
              "      <td>88.311</td>\n",
              "      <td>254145.0</td>\n",
              "      <td>4</td>\n",
              "      <td>5</td>\n",
              "    </tr>\n",
              "  </tbody>\n",
              "</table>\n",
              "</div>\n",
              "      <button class=\"colab-df-convert\" onclick=\"convertToInteractive('df-50af7a95-80d8-4df0-84d4-c980542578fe')\"\n",
              "              title=\"Convert this dataframe to an interactive table.\"\n",
              "              style=\"display:none;\">\n",
              "        \n",
              "  <svg xmlns=\"http://www.w3.org/2000/svg\" height=\"24px\"viewBox=\"0 0 24 24\"\n",
              "       width=\"24px\">\n",
              "    <path d=\"M0 0h24v24H0V0z\" fill=\"none\"/>\n",
              "    <path d=\"M18.56 5.44l.94 2.06.94-2.06 2.06-.94-2.06-.94-.94-2.06-.94 2.06-2.06.94zm-11 1L8.5 8.5l.94-2.06 2.06-.94-2.06-.94L8.5 2.5l-.94 2.06-2.06.94zm10 10l.94 2.06.94-2.06 2.06-.94-2.06-.94-.94-2.06-.94 2.06-2.06.94z\"/><path d=\"M17.41 7.96l-1.37-1.37c-.4-.4-.92-.59-1.43-.59-.52 0-1.04.2-1.43.59L10.3 9.45l-7.72 7.72c-.78.78-.78 2.05 0 2.83L4 21.41c.39.39.9.59 1.41.59.51 0 1.02-.2 1.41-.59l7.78-7.78 2.81-2.81c.8-.78.8-2.07 0-2.86zM5.41 20L4 18.59l7.72-7.72 1.47 1.35L5.41 20z\"/>\n",
              "  </svg>\n",
              "      </button>\n",
              "      \n",
              "  <style>\n",
              "    .colab-df-container {\n",
              "      display:flex;\n",
              "      flex-wrap:wrap;\n",
              "      gap: 12px;\n",
              "    }\n",
              "\n",
              "    .colab-df-convert {\n",
              "      background-color: #E8F0FE;\n",
              "      border: none;\n",
              "      border-radius: 50%;\n",
              "      cursor: pointer;\n",
              "      display: none;\n",
              "      fill: #1967D2;\n",
              "      height: 32px;\n",
              "      padding: 0 0 0 0;\n",
              "      width: 32px;\n",
              "    }\n",
              "\n",
              "    .colab-df-convert:hover {\n",
              "      background-color: #E2EBFA;\n",
              "      box-shadow: 0px 1px 2px rgba(60, 64, 67, 0.3), 0px 1px 3px 1px rgba(60, 64, 67, 0.15);\n",
              "      fill: #174EA6;\n",
              "    }\n",
              "\n",
              "    [theme=dark] .colab-df-convert {\n",
              "      background-color: #3B4455;\n",
              "      fill: #D2E3FC;\n",
              "    }\n",
              "\n",
              "    [theme=dark] .colab-df-convert:hover {\n",
              "      background-color: #434B5C;\n",
              "      box-shadow: 0px 1px 3px 1px rgba(0, 0, 0, 0.15);\n",
              "      filter: drop-shadow(0px 1px 2px rgba(0, 0, 0, 0.3));\n",
              "      fill: #FFFFFF;\n",
              "    }\n",
              "  </style>\n",
              "\n",
              "      <script>\n",
              "        const buttonEl =\n",
              "          document.querySelector('#df-50af7a95-80d8-4df0-84d4-c980542578fe button.colab-df-convert');\n",
              "        buttonEl.style.display =\n",
              "          google.colab.kernel.accessAllowed ? 'block' : 'none';\n",
              "\n",
              "        async function convertToInteractive(key) {\n",
              "          const element = document.querySelector('#df-50af7a95-80d8-4df0-84d4-c980542578fe');\n",
              "          const dataTable =\n",
              "            await google.colab.kernel.invokeFunction('convertToInteractive',\n",
              "                                                     [key], {});\n",
              "          if (!dataTable) return;\n",
              "\n",
              "          const docLinkHtml = 'Like what you see? Visit the ' +\n",
              "            '<a target=\"_blank\" href=https://colab.research.google.com/notebooks/data_table.ipynb>data table notebook</a>'\n",
              "            + ' to learn more about interactive tables.';\n",
              "          element.innerHTML = '';\n",
              "          dataTable['output_type'] = 'display_data';\n",
              "          await google.colab.output.renderOutput(dataTable, element);\n",
              "          const docLink = document.createElement('div');\n",
              "          docLink.innerHTML = docLinkHtml;\n",
              "          element.appendChild(docLink);\n",
              "        }\n",
              "      </script>\n",
              "    </div>\n",
              "  </div>\n",
              "  "
            ],
            "text/plain": [
              "   Id          Artist Name       Track Name  Popularity  danceability  energy  \\\n",
              "0   1    Marina Maximilian       Not Afraid        37.0         0.334   0.536   \n",
              "1   2       The Black Keys  Howlin' for You        67.0         0.725   0.747   \n",
              "2   3  Royal & the Serpent          phuck u         NaN         0.584   0.804   \n",
              "3   4   Detroit Blues Band      Missing You        12.0         0.515   0.308   \n",
              "4   5         Coast Contra          My Lady        48.0         0.565   0.777   \n",
              "\n",
              "    key  loudness  mode  speechiness  acousticness  instrumentalness  \\\n",
              "0   9.0    -6.649     0       0.0381      0.378000               NaN   \n",
              "1  11.0    -5.545     1       0.0876      0.027200            0.0468   \n",
              "2   7.0    -6.094     1       0.0619      0.000968            0.6350   \n",
              "3   NaN   -14.711     1       0.0312      0.907000            0.0213   \n",
              "4   6.0    -5.096     0       0.2490      0.183000               NaN   \n",
              "\n",
              "   liveness  valence    tempo  duration_in min/ms  time_signature  Class  \n",
              "0     0.106    0.235  152.429            204947.0               4      9  \n",
              "1     0.104    0.380  132.921            191956.0               4      6  \n",
              "2     0.284    0.635  159.953            161037.0               4     10  \n",
              "3     0.300    0.501  172.472            298093.0               3      2  \n",
              "4     0.211    0.619   88.311            254145.0               4      5  "
            ]
          },
          "execution_count": 341,
          "metadata": {},
          "output_type": "execute_result"
        }
      ],
      "source": [
        "data.head()"
      ]
    },
    {
      "cell_type": "markdown",
      "metadata": {
        "id": "wpqmlQf_Si2c"
      },
      "source": [
        "2-The shape of the dataset"
      ]
    },
    {
      "cell_type": "code",
      "execution_count": 342,
      "metadata": {
        "colab": {
          "base_uri": "https://localhost:8080/"
        },
        "id": "-k9ZP75kSYCp",
        "outputId": "e6a83c05-f399-4843-9360-018acfb6a0f7"
      },
      "outputs": [
        {
          "data": {
            "text/plain": [
              "(14396, 18)"
            ]
          },
          "execution_count": 342,
          "metadata": {},
          "output_type": "execute_result"
        }
      ],
      "source": [
        "data.shape"
      ]
    },
    {
      "cell_type": "markdown",
      "metadata": {
        "id": "E7_LGS2jSptZ"
      },
      "source": [
        "**3-Info of the dataset & Know the datatypes**"
      ]
    },
    {
      "cell_type": "code",
      "execution_count": 343,
      "metadata": {
        "colab": {
          "base_uri": "https://localhost:8080/"
        },
        "id": "y_kyiQDsSnGE",
        "outputId": "5ef7ce33-ba8f-4d4f-fb87-510eed6d2fb5"
      },
      "outputs": [
        {
          "name": "stdout",
          "output_type": "stream",
          "text": [
            "<class 'pandas.core.frame.DataFrame'>\n",
            "RangeIndex: 14396 entries, 0 to 14395\n",
            "Data columns (total 18 columns):\n",
            " #   Column              Non-Null Count  Dtype  \n",
            "---  ------              --------------  -----  \n",
            " 0   Id                  14396 non-null  int64  \n",
            " 1   Artist Name         14396 non-null  object \n",
            " 2   Track Name          14396 non-null  object \n",
            " 3   Popularity          14063 non-null  float64\n",
            " 4   danceability        14396 non-null  float64\n",
            " 5   energy              14396 non-null  float64\n",
            " 6   key                 12787 non-null  float64\n",
            " 7   loudness            14396 non-null  float64\n",
            " 8   mode                14396 non-null  int64  \n",
            " 9   speechiness         14396 non-null  float64\n",
            " 10  acousticness        14396 non-null  float64\n",
            " 11  instrumentalness    10855 non-null  float64\n",
            " 12  liveness            14396 non-null  float64\n",
            " 13  valence             14396 non-null  float64\n",
            " 14  tempo               14396 non-null  float64\n",
            " 15  duration_in min/ms  14396 non-null  float64\n",
            " 16  time_signature      14396 non-null  int64  \n",
            " 17  Class               14396 non-null  int64  \n",
            "dtypes: float64(12), int64(4), object(2)\n",
            "memory usage: 2.0+ MB\n"
          ]
        }
      ],
      "source": [
        "data.info()"
      ]
    },
    {
      "cell_type": "markdown",
      "metadata": {
        "id": "8vEZSjz0TC8J"
      },
      "source": [
        "***Discussion:***\n",
        "***\n",
        "I have two catigorical columns must to dealing with them"
      ]
    },
    {
      "cell_type": "markdown",
      "metadata": {
        "id": "wlY0YDW1TRg1"
      },
      "source": [
        "## **Descover Missing value**"
      ]
    },
    {
      "cell_type": "markdown",
      "metadata": {
        "id": "QwB3emz5TTzj"
      },
      "source": [
        "1-Check amount of missing values"
      ]
    },
    {
      "cell_type": "code",
      "execution_count": 344,
      "metadata": {
        "colab": {
          "base_uri": "https://localhost:8080/"
        },
        "id": "GwAD18RKSsL1",
        "outputId": "57e0e133-b7d4-42e9-abf6-cc4364e67656"
      },
      "outputs": [
        {
          "data": {
            "text/plain": [
              "Id                     0.000000\n",
              "Artist Name            0.000000\n",
              "Track Name             0.000000\n",
              "Popularity             2.313143\n",
              "danceability           0.000000\n",
              "energy                 0.000000\n",
              "key                   11.176716\n",
              "loudness               0.000000\n",
              "mode                   0.000000\n",
              "speechiness            0.000000\n",
              "acousticness           0.000000\n",
              "instrumentalness      24.597110\n",
              "liveness               0.000000\n",
              "valence                0.000000\n",
              "tempo                  0.000000\n",
              "duration_in min/ms     0.000000\n",
              "time_signature         0.000000\n",
              "Class                  0.000000\n",
              "dtype: float64"
            ]
          },
          "execution_count": 344,
          "metadata": {},
          "output_type": "execute_result"
        }
      ],
      "source": [
        "data.isnull().sum() / data.shape[0]*100"
      ]
    },
    {
      "cell_type": "markdown",
      "metadata": {
        "id": "49E4YI1HTl-M"
      },
      "source": [
        "***Discussion:***\n",
        "***\n",
        "I have three columns have missing values "
      ]
    },
    {
      "cell_type": "markdown",
      "metadata": {
        "id": "cNqMZ9UrUFpS"
      },
      "source": [
        "## **Duplicate values**"
      ]
    },
    {
      "cell_type": "code",
      "execution_count": 345,
      "metadata": {
        "colab": {
          "base_uri": "https://localhost:8080/"
        },
        "id": "3ormgRpPTZ2E",
        "outputId": "590c7307-79d4-4337-b0bb-7b30695447f9"
      },
      "outputs": [
        {
          "data": {
            "text/plain": [
              "0"
            ]
          },
          "execution_count": 345,
          "metadata": {},
          "output_type": "execute_result"
        }
      ],
      "source": [
        "data.duplicated().sum() #try without id"
      ]
    },
    {
      "cell_type": "code",
      "execution_count": 346,
      "metadata": {
        "id": "Nfj-08c5K4HS"
      },
      "outputs": [],
      "source": [
        "data2=data.drop(\"Id\",axis=1)\n"
      ]
    },
    {
      "cell_type": "code",
      "execution_count": 347,
      "metadata": {
        "colab": {
          "base_uri": "https://localhost:8080/"
        },
        "id": "lNhVAz_uLQQF",
        "outputId": "899244fc-be9c-4988-81b9-6d61ce3162b6"
      },
      "outputs": [
        {
          "data": {
            "text/plain": [
              "0"
            ]
          },
          "execution_count": 347,
          "metadata": {},
          "output_type": "execute_result"
        }
      ],
      "source": [
        "data2.duplicated().sum()"
      ]
    },
    {
      "cell_type": "code",
      "execution_count": 348,
      "metadata": {
        "id": "qHrHSvA9Ls4o"
      },
      "outputs": [],
      "source": [
        "data3=data.drop([\"Id\",\"Artist Name\",\"Track Name\"],axis=1)"
      ]
    },
    {
      "cell_type": "code",
      "execution_count": 349,
      "metadata": {
        "colab": {
          "base_uri": "https://localhost:8080/"
        },
        "id": "rWpz-cT8MRIL",
        "outputId": "469b3bfa-1150-4a76-fe6a-4d07f6740466"
      },
      "outputs": [
        {
          "data": {
            "text/plain": [
              "24"
            ]
          },
          "execution_count": 349,
          "metadata": {},
          "output_type": "execute_result"
        }
      ],
      "source": [
        "data3.duplicated().sum()"
      ]
    },
    {
      "cell_type": "markdown",
      "metadata": {
        "id": "lRZx5pPZUX5b"
      },
      "source": [
        "\n",
        "**Discussion:**\n",
        "***\n",
        "In this dataset there are no duplicated values ,so we can ignore the processing steps of duplicated data"
      ]
    },
    {
      "cell_type": "markdown",
      "metadata": {
        "id": "ZhOEUYTmUcty"
      },
      "source": [
        "## **Analysis Data and Visulization**"
      ]
    },
    {
      "cell_type": "markdown",
      "metadata": {
        "id": "F-FQQx0BUl-b"
      },
      "source": [
        "**1.Histograms for numerical attributes**"
      ]
    },
    {
      "cell_type": "code",
      "execution_count": 350,
      "metadata": {
        "colab": {
          "base_uri": "https://localhost:8080/",
          "height": 718
        },
        "id": "bpNU2Q3kUIh6",
        "outputId": "e6608fdc-c613-4d20-c35f-6a9db346f262"
      },
      "outputs": [
        {
          "data": {
            "image/png": "[encoded data removed]",
            "text/plain": [
              "<Figure size 1440x1080 with 16 Axes>"
            ]
          },
          "metadata": {
            "needs_background": "light"
          },
          "output_type": "display_data"
        }
      ],
      "source": [
        "#Plot histogram for all for each numerical attribute \n",
        "data.hist(bins=30, figsize=(20,15))\n",
        "plt.show()"
      ]
    },
    {
      "cell_type": "code",
      "execution_count": 351,
      "metadata": {
        "colab": {
          "base_uri": "https://localhost:8080/"
        },
        "id": "3dy9CRr4PHC_",
        "outputId": "0915f147-14b1-49a4-f3a9-48aa987e76bb"
      },
      "outputs": [
        {
          "data": {
            "text/plain": [
              "Index(['Id', 'Artist Name', 'Track Name', 'Popularity', 'danceability',\n",
              "       'energy', 'key', 'loudness', 'mode', 'speechiness', 'acousticness',\n",
              "       'instrumentalness', 'liveness', 'valence', 'tempo',\n",
              "       'duration_in min/ms', 'time_signature', 'Class'],\n",
              "      dtype='object')"
            ]
          },
          "execution_count": 351,
          "metadata": {},
          "output_type": "execute_result"
        }
      ],
      "source": [
        "data.columns"
      ]
    },
    {
      "cell_type": "markdown",
      "metadata": {
        "id": "Rd8BM8YWN0rR"
      },
      "source": [
        "**Discussion:**\n",
        "***\n",
        "By analysis every numerical attribute:\n",
        "\n",
        "**1-ID** have to be deleted \n",
        "\n",
        "**2-popularity** : [0-100]  with almost normal distribution\n",
        "\n",
        "**3-danceability** : [0-100] with almost normal distribution\n",
        "\n",
        "**4-energy** : [0-1]\n",
        "\n",
        "**5-key** : categorecal [1,11] c,c#....\n",
        "\n",
        "**6-Loudness**: [-39.9 , 1.3] \n",
        "\n",
        "**7-mode**: categorecal [0,1] 0:minor/1:major\n",
        "\n",
        "**8-speachiness** : [0,1]\n",
        "*   > 0.66  :  totaly speach\n",
        "*   < 0.66   &   > 0.33 : mix of speach and music\n",
        "*   < 0.33 : totaly music\n",
        "\n",
        "**9-acousticness** : confidence measure [0,1] \n",
        "\n",
        "**10-instrumentalness**: [0,1]\n",
        "*   > 0.5 : tend to be by instruments\n",
        "*   < 0.5 : tend to be human vocal \n",
        "\n",
        "**11-liveness** : [0.1] live if >0.8 \n",
        "\n",
        "**12-valence**: [0,1] happy/high sad/low\n",
        "\n",
        "**13-tempo**:BPM [30.0 , 217.4]\n",
        "\n",
        "**14-duration**:time [0.5 , 1.4 e6]\n",
        "\n",
        "**15-time_signature**:calegorical [1.5]\n",
        "\n",
        "\n",
        "\n",
        "\n",
        "\n"
      ]
    },
    {
      "cell_type": "markdown",
      "metadata": {
        "id": "P_pEtz1-VP-R"
      },
      "source": [
        "2.scatter matrix plots every numerical attribute"
      ]
    },
    {
      "cell_type": "markdown",
      "metadata": {
        "id": "Fig1H3u-XNqb"
      },
      "source": [
        "**3.look for correlations among the features**"
      ]
    },
    {
      "cell_type": "code",
      "execution_count": 353,
      "metadata": {
        "colab": {
          "base_uri": "https://localhost:8080/",
          "height": 736
        },
        "id": "YWRXeNnwVe_L",
        "outputId": "5f7e3a66-19e4-4f3d-a3f4-b1979713b1af"
      },
      "outputs": [
        {
          "data": {
            "image/png": "[encoded data removed]",
            "text/plain": [
              "<Figure size 792x792 with 2 Axes>"
            ]
          },
          "metadata": {
            "needs_background": "light"
          },
          "output_type": "display_data"
        }
      ],
      "source": [
        "\n",
        "plt.figure(figsize=(11, 11))\n",
        "sns.heatmap(data.corr(),cmap=\"YlGnBu\",annot=True)\n",
        "plt.show()"
      ]
    },
    {
      "cell_type": "markdown",
      "metadata": {
        "id": "rN58LDY55kPZ"
      },
      "source": [
        "**Discussion:**\n",
        "***\n",
        "we can notice that:\n",
        "\n",
        "- \"energy\" correlated with \"loudness\" with 0.77\n",
        "\n",
        "- \"energy\" correlated with \"acousticeness\" with -0.75\n",
        "\n",
        "- \"acousticeness\" correlated with \"loudness\" -0.61\n"
      ]
    },
    {
      "cell_type": "markdown",
      "metadata": {
        "id": "Zo3aRGMu_CnM"
      },
      "source": [
        "***\n",
        "There is a correlation between energy &  loudness-acousticeness"
      ]
    },
    {
      "cell_type": "code",
      "execution_count": 354,
      "metadata": {
        "colab": {
          "base_uri": "https://localhost:8080/"
        },
        "id": "KS9qyd_IXRtp",
        "outputId": "e5434853-8db8-4871-e387-17c0d627b6fd"
      },
      "outputs": [
        {
          "data": {
            "text/plain": [
              "Class                 1.000000\n",
              "energy                0.215611\n",
              "duration_in min/ms    0.203822\n",
              "loudness              0.174111\n",
              "Popularity            0.159484\n",
              "liveness              0.040101\n",
              "time_signature        0.040053\n",
              "tempo                 0.034496\n",
              "Id                    0.002703\n",
              "key                  -0.004175\n",
              "instrumentalness     -0.028631\n",
              "mode                 -0.040092\n",
              "speechiness          -0.062784\n",
              "valence              -0.080036\n",
              "danceability         -0.101152\n",
              "acousticness         -0.240609\n",
              "Name: Class, dtype: float64"
            ]
          },
          "execution_count": 354,
          "metadata": {},
          "output_type": "execute_result"
        }
      ],
      "source": [
        "corr_matrix = data.corr()\n",
        "corr_matrix[\"Class\"].sort_values(ascending=False)"
      ]
    },
    {
      "cell_type": "markdown",
      "metadata": {
        "id": "4_IeSGunZu1h"
      },
      "source": [
        "**4.discover categorical values of columns**"
      ]
    },
    {
      "cell_type": "markdown",
      "metadata": {
        "id": "DgL3G1E3Z0aY"
      },
      "source": [
        "**Notice:**\n",
        "***\n",
        "As we see when we discover the data by info function ,there are three columns have categorical values ,so we have to discover these columns"
      ]
    },
    {
      "cell_type": "code",
      "execution_count": 355,
      "metadata": {
        "colab": {
          "base_uri": "https://localhost:8080/"
        },
        "id": "ZymAqQNVXamD",
        "outputId": "c25a0273-096a-48e0-b9fd-c3af92c35d0f"
      },
      "outputs": [
        {
          "data": {
            "text/plain": [
              "Backstreet Boys    58\n",
              "Westlife           53\n",
              "Britney Spears     47\n",
              "Omer Adam          39\n",
              "Eyal Golan         38\n",
              "                   ..\n",
              "Snowy Dunes         1\n",
              "WhoMadeWho          1\n",
              "Tom Lewis Band      1\n",
              "Dozer               1\n",
              "Freddy Fender       1\n",
              "Name: Artist Name, Length: 7913, dtype: int64"
            ]
          },
          "execution_count": 355,
          "metadata": {},
          "output_type": "execute_result"
        }
      ],
      "source": [
        "#Artist Name column\n",
        "data[\"Artist Name\"].value_counts()"
      ]
    },
    {
      "cell_type": "code",
      "execution_count": 356,
      "metadata": {
        "colab": {
          "base_uri": "https://localhost:8080/"
        },
        "id": "pQwNFo6wZ67k",
        "outputId": "dd3dbdea-7d66-412e-fda2-43591b2cecdb"
      },
      "outputs": [
        {
          "data": {
            "text/plain": [
              "Fire                              8\n",
              "Ghost                             7\n",
              "Runaway                           7\n",
              "Forever                           6\n",
              "Dreams                            6\n",
              "                                 ..\n",
              "Tangerine                         1\n",
              "Three Alley Cats                  1\n",
              "◊™◊ë◊ï◊ê◊ô ◊î◊ô◊ï◊ù               1\n",
              "In My Room                        1\n",
              "Before the Next Teardrop Falls    1\n",
              "Name: Track Name, Length: 12455, dtype: int64"
            ]
          },
          "execution_count": 356,
          "metadata": {},
          "output_type": "execute_result"
        }
      ],
      "source": [
        "#Track Name column\n",
        "data[\"Track Name\"].value_counts()"
      ]
    },
    {
      "cell_type": "markdown",
      "metadata": {
        "id": "AIczNwb7qfBA"
      },
      "source": [
        "## - discover all features"
      ]
    },
    {
      "cell_type": "code",
      "execution_count": 361,
      "metadata": {
        "colab": {
          "base_uri": "https://localhost:8080/"
        },
        "id": "UsqEQX_Rr4CE",
        "outputId": "60544681-c81a-407a-dff7-24c16415dbd9"
      },
      "outputs": [
        {
          "data": {
            "text/plain": [
              "count    14396.000000\n",
              "mean         0.543105\n",
              "std          0.165517\n",
              "min          0.059600\n",
              "25%          0.432000\n",
              "50%          0.545000\n",
              "75%          0.658000\n",
              "max          0.989000\n",
              "Name: danceability, dtype: float64"
            ]
          },
          "execution_count": 361,
          "metadata": {},
          "output_type": "execute_result"
        }
      ],
      "source": [
        "data[\"danceability\"].describe()"
      ]
    },
    {
      "cell_type": "markdown",
      "metadata": {},
      "source": [
        "## Discover the Classes"
      ]
    },
    {
      "cell_type": "code",
      "execution_count": 364,
      "metadata": {
        "colab": {
          "base_uri": "https://localhost:8080/",
          "height": 429
        },
        "id": "LaXzHbK-hA51",
        "outputId": "45b939bd-9036-404d-93d2-b5c9ff495462"
      },
      "outputs": [
        {
          "data": {
            "image/png": "[encoded data removed]",
            "text/plain": [
              "<Figure size 504x504 with 1 Axes>"
            ]
          },
          "metadata": {},
          "output_type": "display_data"
        }
      ],
      "source": [
        "#extarct the information\n",
        "data2=data[\"Class\"]\n",
        "k3=data[\"Class\"].unique()\n",
        "\n",
        "g=[ (k3[i],data[data2==k3[i]].shape[0])  for i in range(len(k3)) ]\n",
        "\n",
        "labels2,groups2=zip(*g)\n",
        "\n",
        "# Create a pieplot\n",
        "plt.figure(figsize=(7,7))\n",
        "\n",
        "plt.pie(x=groups2, autopct=\"%.1f%%\", labels=labels2, pctdistance=0.6)\n",
        "plt.title(\"Percentage of each Class\", fontsize=15);\n",
        "plt.show()"
      ]
    },
    {
      "cell_type": "markdown",
      "metadata": {
        "id": "Q6w09vPui-lj"
      },
      "source": [
        "**Discussion:**\n",
        "***\n",
        "The labels are imbalance and lead to bais to some class more than others, need to handle this"
      ]
    },
    {
      "cell_type": "markdown",
      "metadata": {
        "id": "x1Lwcack1Bpx"
      },
      "source": [
        "Descover distrebution:"
      ]
    },
    {
      "cell_type": "code",
      "execution_count": 365,
      "metadata": {
        "id": "FHO70H6am-TC"
      },
      "outputs": [],
      "source": [
        "# df_cont = data.select_dtypes([int,float]) # store all integer or float columns in df_cont variable\n",
        "\n",
        "# fig = plt.figure(figsize=(15, 18)) # sets the size of the 4 plot with width as 15 and height as 18\n",
        "# for i,columns in enumerate(df_cont.columns, 1): \n",
        "#   ax = plt.subplot(6,3,i) # creates 3 subplots in one single row\n",
        "#   sns.kdeplot(x=df_cont[columns]) # creates kde plots for each feature in df_cont dataset\n",
        "#   ax.set_xlabel(None) # removes the labels on x-axis\n",
        "#   ax.set_title(f'Distribution of {columns}') # adds a title to each subplot\n",
        "#   plt.tight_layout(w_pad=3) # adds padding between the subplots\n",
        "# plt.show() # displays the plots"
      ]
    },
    {
      "cell_type": "code",
      "execution_count": 366,
      "metadata": {
        "colab": {
          "base_uri": "https://localhost:8080/"
        },
        "id": "InW4o4avzyRq",
        "outputId": "9fcca113-c6b0-42aa-c1d4-4d7ad918eb93"
      },
      "outputs": [
        {
          "name": "stdout",
          "output_type": "stream",
          "text": [
            "Skewness in Id = 0.0\n",
            "Skewness in Popularity = 0.07579046375488484\n",
            "Skewness in danceability = -0.0756511486369389\n",
            "Skewness in energy = -0.6566981463570856\n",
            "Skewness in key = -0.0545210924911891\n",
            "Skewness in loudness = -1.7480726517033285\n",
            "Skewness in mode = -0.5845125235077557\n",
            "Skewness in speechiness = 3.1133953563555172\n",
            "Skewness in acousticness = 1.108932775257483\n",
            "Skewness in instrumentalness = 1.5251660012747972\n",
            "Skewness in liveness = 2.1782645918702275\n",
            "Skewness in valence = 0.08868734986168407\n",
            "Skewness in tempo = 0.37650698329039883\n",
            "Skewness in duration_in min/ms = 0.8364069779604217\n",
            "Skewness in time_signature = -4.1094001953189325\n",
            "Skewness in Class = -0.6665628522172127\n"
          ]
        }
      ],
      "source": [
        "df_cont = data.select_dtypes([int,float]) # store all integer or float columns in df_cont variable\n",
        "\n",
        "for i in df_cont.columns:\n",
        "  print(f'Skewness in {i} =',df_cont[i].skew())"
      ]
    },
    {
      "cell_type": "markdown",
      "metadata": {
        "id": "w4gfbRYG3Fgl"
      },
      "source": [
        "**Discussion:**\n",
        "***\n",
        "If skewness is in between -0.5 and 0.5, the data is  normally distributed so far."
      ]
    },
    {
      "cell_type": "markdown",
      "metadata": {
        "id": "REZeCVVxzy68"
      },
      "source": [
        "Descover Outliers"
      ]
    },
    {
      "cell_type": "code",
      "execution_count": 367,
      "metadata": {
        "colab": {
          "base_uri": "https://localhost:8080/",
          "height": 729
        },
        "id": "ws6IxsYMzyUC",
        "outputId": "138143d6-c912-4751-ad5f-19169e8a7d32"
      },
      "outputs": [
        {
          "data": {
            "image/png": "[encoded data removed]",
            "text/plain": [
              "<Figure size 720x720 with 16 Axes>"
            ]
          },
          "metadata": {
            "needs_background": "light"
          },
          "output_type": "display_data"
        }
      ],
      "source": [
        "df_cont = data.select_dtypes([int,float]) # store all integer or float columns in df_cont variable\n",
        "\n",
        "fig = plt.figure(figsize=(10, 10)) # sets the size of the 4 plot with width as 10 and height as 10\n",
        "for i,columns in enumerate(df_cont.columns, 1): \n",
        "  ax = plt.subplot(6,3,i) # creates 3 subplots in one single row\n",
        "  sns.boxplot(data = df_cont, x=df_cont[columns]) # creates box plots for each feature in df_cont dataset\n",
        "  ax.set_xlabel(None) # removes the labels on x-axis\n",
        "  ax.set_title(f'Distribution of {columns}') # adds a title to each subplot\n",
        "  plt.tight_layout(w_pad=3) # adds padding between the subplots\n",
        "plt.show() # displays the plots"
      ]
    },
    {
      "cell_type": "code",
      "execution_count": 368,
      "metadata": {
        "colab": {
          "base_uri": "https://localhost:8080/"
        },
        "id": "O7opDCQdzyWP",
        "outputId": "57614174-19e5-43f5-b240-9446d2be3ae9"
      },
      "outputs": [
        {
          "data": {
            "text/plain": [
              "count    1.439600e+04\n",
              "mean     2.000942e+05\n",
              "std      1.116891e+05\n",
              "min      5.016500e-01\n",
              "25%      1.654458e+05\n",
              "50%      2.089410e+05\n",
              "75%      2.522470e+05\n",
              "max      1.477187e+06\n",
              "Name: duration_in min/ms, dtype: float64"
            ]
          },
          "execution_count": 368,
          "metadata": {},
          "output_type": "execute_result"
        }
      ],
      "source": [
        "data[\"duration_in min/ms\"].describe()"
      ]
    },
    {
      "cell_type": "code",
      "execution_count": 369,
      "metadata": {
        "id": "v2kib9Usm-Vn"
      },
      "outputs": [],
      "source": [
        "data1=data"
      ]
    },
    {
      "cell_type": "markdown",
      "metadata": {
        "id": "bN9JRQ1ypJZR"
      },
      "source": [
        "## Split to training and testing sets:"
      ]
    },
    {
      "cell_type": "markdown",
      "metadata": {
        "id": "OjZG3CCUpZXR"
      },
      "source": [
        "split train/test datasets having equal classes proportion & shuffle data"
      ]
    },
    {
      "cell_type": "code",
      "execution_count": 370,
      "metadata": {
        "id": "GhH1i33ChA8z"
      },
      "outputs": [],
      "source": [
        "X=data1.drop(\"Class\",axis=1)\n",
        "y=data1[\"Class\"]"
      ]
    },
    {
      "cell_type": "code",
      "execution_count": 371,
      "metadata": {
        "id": "bIEskXH0hA_Z"
      },
      "outputs": [],
      "source": [
        " X_train, X_test, y_train, y_test=train_test_split(X, y, random_state=0,test_size=0.2, stratify=y, shuffle=True)"
      ]
    },
    {
      "cell_type": "code",
      "execution_count": 372,
      "metadata": {
        "colab": {
          "base_uri": "https://localhost:8080/"
        },
        "id": "IVtbZSInVS3E",
        "outputId": "3544a7af-c987-4b56-bcdb-4116d5f7e082"
      },
      "outputs": [
        {
          "data": {
            "text/plain": [
              "10    3167\n",
              "6     1655\n",
              "9     1615\n",
              "8     1186\n",
              "5      926\n",
              "1      878\n",
              "2      814\n",
              "0      400\n",
              "7      369\n",
              "3      258\n",
              "4      248\n",
              "Name: Class, dtype: int64"
            ]
          },
          "execution_count": 372,
          "metadata": {},
          "output_type": "execute_result"
        }
      ],
      "source": [
        "y_train.value_counts()"
      ]
    },
    {
      "cell_type": "code",
      "execution_count": 373,
      "metadata": {
        "colab": {
          "base_uri": "https://localhost:8080/"
        },
        "id": "ydn_8k0CnutZ",
        "outputId": "377b3fab-28d4-4a72-d103-e402e54e4828"
      },
      "outputs": [
        {
          "data": {
            "text/plain": [
              "10    792\n",
              "6     414\n",
              "9     404\n",
              "8     297\n",
              "5     231\n",
              "1     220\n",
              "2     204\n",
              "0     100\n",
              "7      92\n",
              "3      64\n",
              "4      62\n",
              "Name: Class, dtype: int64"
            ]
          },
          "execution_count": 373,
          "metadata": {},
          "output_type": "execute_result"
        }
      ],
      "source": [
        "y_test.value_counts()"
      ]
    },
    {
      "cell_type": "code",
      "execution_count": 374,
      "metadata": {
        "colab": {
          "base_uri": "https://localhost:8080/"
        },
        "id": "0VVOTNfXoZdi",
        "outputId": "346d6f83-eea3-45cb-d152-5791b741f1c7"
      },
      "outputs": [
        {
          "data": {
            "text/plain": [
              "10    3959\n",
              "6     2069\n",
              "9     2019\n",
              "8     1483\n",
              "5     1157\n",
              "1     1098\n",
              "2     1018\n",
              "0      500\n",
              "7      461\n",
              "3      322\n",
              "4      310\n",
              "Name: Class, dtype: int64"
            ]
          },
          "execution_count": 374,
          "metadata": {},
          "output_type": "execute_result"
        }
      ],
      "source": [
        "data[\"Class\"].value_counts()"
      ]
    },
    {
      "cell_type": "markdown",
      "metadata": {
        "id": "WQPJYzTapygK"
      },
      "source": [
        "resampling data"
      ]
    },
    {
      "cell_type": "code",
      "execution_count": 375,
      "metadata": {
        "id": "F7b14_me26ZT"
      },
      "outputs": [],
      "source": [
        "# from imblearn.combine import SMOTETomek\n",
        "# from imblearn.under_sampling import TomekLinks\n",
        "# Define SMOTE-Tomek Links\n",
        "# resample=SMOTETomek(tomek=TomekLinks(sampling_strategy='majority'))\n",
        "# X_train, y_train = resample.fit_resample(X_train, y_train)"
      ]
    },
    {
      "cell_type": "code",
      "execution_count": 376,
      "metadata": {
        "colab": {
          "base_uri": "https://localhost:8080/"
        },
        "id": "99FJgGkN3J1l",
        "outputId": "92d451e6-5b23-4ea6-80f9-453f58ceecdd"
      },
      "outputs": [
        {
          "data": {
            "text/plain": [
              "(11516, 17)"
            ]
          },
          "execution_count": 376,
          "metadata": {},
          "output_type": "execute_result"
        }
      ],
      "source": [
        "X_train.shape"
      ]
    },
    {
      "cell_type": "code",
      "execution_count": 377,
      "metadata": {
        "id": "oDUSj_R-CEFs"
      },
      "outputs": [],
      "source": [
        "# concatenate our training data back together\n",
        "data1 = pd.concat([X_train, y_train], axis=1)"
      ]
    },
    {
      "cell_type": "code",
      "execution_count": 378,
      "metadata": {
        "id": "RjM-22jzA5M0"
      },
      "outputs": [],
      "source": [
        "\n",
        "from sklearn.utils import shuffle\n",
        "data1 = shuffle(data1)\n",
        "data1.reset_index(inplace=True, drop=True)"
      ]
    },
    {
      "cell_type": "markdown",
      "metadata": {
        "id": "XiQSoY21cLc0"
      },
      "source": [
        "## **Prepare the Data for Machine Learning Algorithms**\n"
      ]
    },
    {
      "cell_type": "markdown",
      "metadata": {
        "id": "4yTMi_KMcMii"
      },
      "source": [
        "## A- Data Cleaning"
      ]
    },
    {
      "cell_type": "markdown",
      "metadata": {
        "id": "oa518_OscXQl"
      },
      "source": [
        "**missing values**"
      ]
    },
    {
      "cell_type": "code",
      "execution_count": 380,
      "metadata": {
        "id": "dUfs9o3gcL8I"
      },
      "outputs": [],
      "source": [
        "#Popularity\n",
        "mean_pop=data1[\"Popularity\"].mean()\n",
        "data1=data1.fillna({\"Popularity\":mean_pop})"
      ]
    },
    {
      "cell_type": "code",
      "execution_count": 381,
      "metadata": {
        "id": "gu3s-oRkdY7M"
      },
      "outputs": [],
      "source": [
        "#key\n",
        "from statistics import mode\n",
        "mode_key=mode(data1[\"key\"])\n",
        "data1=data1.fillna({\"key\":mode_key})"
      ]
    },
    {
      "cell_type": "code",
      "execution_count": 382,
      "metadata": {
        "id": "sYa7as7wdrUJ"
      },
      "outputs": [],
      "source": [
        "#instrumentalness\n",
        "mean_instrumen=data1[\"instrumentalness\"].mean()\n",
        "data1=data1.fillna({\"instrumentalness\":mean_instrumen})"
      ]
    },
    {
      "cell_type": "code",
      "execution_count": 383,
      "metadata": {
        "colab": {
          "base_uri": "https://localhost:8080/"
        },
        "id": "H5ilV1vid1VQ",
        "outputId": "2423980e-53b8-4c65-d52e-d6049619d46e"
      },
      "outputs": [
        {
          "data": {
            "text/plain": [
              "Id                    0\n",
              "Artist Name           0\n",
              "Track Name            0\n",
              "Popularity            0\n",
              "danceability          0\n",
              "energy                0\n",
              "key                   0\n",
              "loudness              0\n",
              "mode                  0\n",
              "speechiness           0\n",
              "acousticness          0\n",
              "instrumentalness      0\n",
              "liveness              0\n",
              "valence               0\n",
              "tempo                 0\n",
              "duration_in min/ms    0\n",
              "time_signature        0\n",
              "Class                 0\n",
              "dtype: int64"
            ]
          },
          "execution_count": 383,
          "metadata": {},
          "output_type": "execute_result"
        }
      ],
      "source": [
        "data1.isna().sum()"
      ]
    },
    {
      "cell_type": "markdown",
      "metadata": {
        "id": "fK1XwGEqgJzJ"
      },
      "source": [
        "## B-Remove outliers"
      ]
    },
    {
      "cell_type": "code",
      "execution_count": 384,
      "metadata": {
        "colab": {
          "base_uri": "https://localhost:8080/"
        },
        "id": "un_FAM2Hf3i-",
        "outputId": "1f53b5ea-0a64-46d5-bc75-2942371d3985"
      },
      "outputs": [
        {
          "data": {
            "text/plain": [
              "Index(['Id', 'Artist Name', 'Track Name', 'Popularity', 'danceability',\n",
              "       'energy', 'key', 'loudness', 'mode', 'speechiness', 'acousticness',\n",
              "       'instrumentalness', 'liveness', 'valence', 'tempo',\n",
              "       'duration_in min/ms', 'time_signature', 'Class'],\n",
              "      dtype='object')"
            ]
          },
          "execution_count": 384,
          "metadata": {},
          "output_type": "execute_result"
        }
      ],
      "source": [
        "data1.columns"
      ]
    },
    {
      "cell_type": "markdown",
      "metadata": {
        "id": "DbilZR1MgNaa"
      },
      "source": [
        "## C-Handling Text and Categorical Attributes"
      ]
    },
    {
      "cell_type": "code",
      "execution_count": 385,
      "metadata": {
        "colab": {
          "base_uri": "https://localhost:8080/",
          "height": 288
        },
        "id": "JP669qqpgN2Y",
        "outputId": "370b8bb9-0401-4263-a459-72e790c6941d"
      },
      "outputs": [
        {
          "data": {
            "text/html": [
              "\n",
              "  <div id=\"df-f634605b-e0ad-45a9-9b9e-3dd76017250f\">\n",
              "    <div class=\"colab-df-container\">\n",
              "      <div>\n",
              "<style scoped>\n",
              "    .dataframe tbody tr th:only-of-type {\n",
              "        vertical-align: middle;\n",
              "    }\n",
              "\n",
              "    .dataframe tbody tr th {\n",
              "        vertical-align: top;\n",
              "    }\n",
              "\n",
              "    .dataframe thead th {\n",
              "        text-align: right;\n",
              "    }\n",
              "</style>\n",
              "<table border=\"1\" class=\"dataframe\">\n",
              "  <thead>\n",
              "    <tr style=\"text-align: right;\">\n",
              "      <th></th>\n",
              "      <th>Popularity</th>\n",
              "      <th>danceability</th>\n",
              "      <th>energy</th>\n",
              "      <th>key</th>\n",
              "      <th>loudness</th>\n",
              "      <th>mode</th>\n",
              "      <th>speechiness</th>\n",
              "      <th>acousticness</th>\n",
              "      <th>instrumentalness</th>\n",
              "      <th>liveness</th>\n",
              "      <th>valence</th>\n",
              "      <th>tempo</th>\n",
              "      <th>duration_in min/ms</th>\n",
              "      <th>time_signature</th>\n",
              "      <th>Class</th>\n",
              "    </tr>\n",
              "  </thead>\n",
              "  <tbody>\n",
              "    <tr>\n",
              "      <th>0</th>\n",
              "      <td>39.0</td>\n",
              "      <td>0.380</td>\n",
              "      <td>0.753</td>\n",
              "      <td>9.0</td>\n",
              "      <td>-8.175</td>\n",
              "      <td>0</td>\n",
              "      <td>0.0723</td>\n",
              "      <td>0.000801</td>\n",
              "      <td>0.000560</td>\n",
              "      <td>0.0958</td>\n",
              "      <td>0.3800</td>\n",
              "      <td>148.836</td>\n",
              "      <td>269000.0</td>\n",
              "      <td>4</td>\n",
              "      <td>8</td>\n",
              "    </tr>\n",
              "    <tr>\n",
              "      <th>1</th>\n",
              "      <td>35.0</td>\n",
              "      <td>0.338</td>\n",
              "      <td>0.598</td>\n",
              "      <td>7.0</td>\n",
              "      <td>-13.432</td>\n",
              "      <td>1</td>\n",
              "      <td>0.1010</td>\n",
              "      <td>0.765000</td>\n",
              "      <td>0.839000</td>\n",
              "      <td>0.4590</td>\n",
              "      <td>0.6780</td>\n",
              "      <td>91.594</td>\n",
              "      <td>284427.0</td>\n",
              "      <td>3</td>\n",
              "      <td>10</td>\n",
              "    </tr>\n",
              "    <tr>\n",
              "      <th>2</th>\n",
              "      <td>57.0</td>\n",
              "      <td>0.608</td>\n",
              "      <td>0.790</td>\n",
              "      <td>6.0</td>\n",
              "      <td>-6.086</td>\n",
              "      <td>1</td>\n",
              "      <td>0.1560</td>\n",
              "      <td>0.066600</td>\n",
              "      <td>0.000084</td>\n",
              "      <td>0.3250</td>\n",
              "      <td>0.8510</td>\n",
              "      <td>155.180</td>\n",
              "      <td>180314.0</td>\n",
              "      <td>4</td>\n",
              "      <td>9</td>\n",
              "    </tr>\n",
              "    <tr>\n",
              "      <th>3</th>\n",
              "      <td>3.0</td>\n",
              "      <td>0.603</td>\n",
              "      <td>0.337</td>\n",
              "      <td>9.0</td>\n",
              "      <td>-10.090</td>\n",
              "      <td>0</td>\n",
              "      <td>0.0360</td>\n",
              "      <td>0.678000</td>\n",
              "      <td>0.454000</td>\n",
              "      <td>0.1040</td>\n",
              "      <td>0.0785</td>\n",
              "      <td>115.014</td>\n",
              "      <td>208194.0</td>\n",
              "      <td>4</td>\n",
              "      <td>6</td>\n",
              "    </tr>\n",
              "    <tr>\n",
              "      <th>4</th>\n",
              "      <td>48.0</td>\n",
              "      <td>0.506</td>\n",
              "      <td>0.907</td>\n",
              "      <td>7.0</td>\n",
              "      <td>-4.011</td>\n",
              "      <td>1</td>\n",
              "      <td>0.0391</td>\n",
              "      <td>0.000019</td>\n",
              "      <td>0.336000</td>\n",
              "      <td>0.5730</td>\n",
              "      <td>0.5470</td>\n",
              "      <td>156.050</td>\n",
              "      <td>188853.0</td>\n",
              "      <td>4</td>\n",
              "      <td>1</td>\n",
              "    </tr>\n",
              "  </tbody>\n",
              "</table>\n",
              "</div>\n",
              "      <button class=\"colab-df-convert\" onclick=\"convertToInteractive('df-f634605b-e0ad-45a9-9b9e-3dd76017250f')\"\n",
              "              title=\"Convert this dataframe to an interactive table.\"\n",
              "              style=\"display:none;\">\n",
              "        \n",
              "  <svg xmlns=\"http://www.w3.org/2000/svg\" height=\"24px\"viewBox=\"0 0 24 24\"\n",
              "       width=\"24px\">\n",
              "    <path d=\"M0 0h24v24H0V0z\" fill=\"none\"/>\n",
              "    <path d=\"M18.56 5.44l.94 2.06.94-2.06 2.06-.94-2.06-.94-.94-2.06-.94 2.06-2.06.94zm-11 1L8.5 8.5l.94-2.06 2.06-.94-2.06-.94L8.5 2.5l-.94 2.06-2.06.94zm10 10l.94 2.06.94-2.06 2.06-.94-2.06-.94-.94-2.06-.94 2.06-2.06.94z\"/><path d=\"M17.41 7.96l-1.37-1.37c-.4-.4-.92-.59-1.43-.59-.52 0-1.04.2-1.43.59L10.3 9.45l-7.72 7.72c-.78.78-.78 2.05 0 2.83L4 21.41c.39.39.9.59 1.41.59.51 0 1.02-.2 1.41-.59l7.78-7.78 2.81-2.81c.8-.78.8-2.07 0-2.86zM5.41 20L4 18.59l7.72-7.72 1.47 1.35L5.41 20z\"/>\n",
              "  </svg>\n",
              "      </button>\n",
              "      \n",
              "  <style>\n",
              "    .colab-df-container {\n",
              "      display:flex;\n",
              "      flex-wrap:wrap;\n",
              "      gap: 12px;\n",
              "    }\n",
              "\n",
              "    .colab-df-convert {\n",
              "      background-color: #E8F0FE;\n",
              "      border: none;\n",
              "      border-radius: 50%;\n",
              "      cursor: pointer;\n",
              "      display: none;\n",
              "      fill: #1967D2;\n",
              "      height: 32px;\n",
              "      padding: 0 0 0 0;\n",
              "      width: 32px;\n",
              "    }\n",
              "\n",
              "    .colab-df-convert:hover {\n",
              "      background-color: #E2EBFA;\n",
              "      box-shadow: 0px 1px 2px rgba(60, 64, 67, 0.3), 0px 1px 3px 1px rgba(60, 64, 67, 0.15);\n",
              "      fill: #174EA6;\n",
              "    }\n",
              "\n",
              "    [theme=dark] .colab-df-convert {\n",
              "      background-color: #3B4455;\n",
              "      fill: #D2E3FC;\n",
              "    }\n",
              "\n",
              "    [theme=dark] .colab-df-convert:hover {\n",
              "      background-color: #434B5C;\n",
              "      box-shadow: 0px 1px 3px 1px rgba(0, 0, 0, 0.15);\n",
              "      filter: drop-shadow(0px 1px 2px rgba(0, 0, 0, 0.3));\n",
              "      fill: #FFFFFF;\n",
              "    }\n",
              "  </style>\n",
              "\n",
              "      <script>\n",
              "        const buttonEl =\n",
              "          document.querySelector('#df-f634605b-e0ad-45a9-9b9e-3dd76017250f button.colab-df-convert');\n",
              "        buttonEl.style.display =\n",
              "          google.colab.kernel.accessAllowed ? 'block' : 'none';\n",
              "\n",
              "        async function convertToInteractive(key) {\n",
              "          const element = document.querySelector('#df-f634605b-e0ad-45a9-9b9e-3dd76017250f');\n",
              "          const dataTable =\n",
              "            await google.colab.kernel.invokeFunction('convertToInteractive',\n",
              "                                                     [key], {});\n",
              "          if (!dataTable) return;\n",
              "\n",
              "          const docLinkHtml = 'Like what you see? Visit the ' +\n",
              "            '<a target=\"_blank\" href=https://colab.research.google.com/notebooks/data_table.ipynb>data table notebook</a>'\n",
              "            + ' to learn more about interactive tables.';\n",
              "          element.innerHTML = '';\n",
              "          dataTable['output_type'] = 'display_data';\n",
              "          await google.colab.output.renderOutput(dataTable, element);\n",
              "          const docLink = document.createElement('div');\n",
              "          docLink.innerHTML = docLinkHtml;\n",
              "          element.appendChild(docLink);\n",
              "        }\n",
              "      </script>\n",
              "    </div>\n",
              "  </div>\n",
              "  "
            ],
            "text/plain": [
              "   Popularity  danceability  energy  key  loudness  mode  speechiness  \\\n",
              "0        39.0         0.380   0.753  9.0    -8.175     0       0.0723   \n",
              "1        35.0         0.338   0.598  7.0   -13.432     1       0.1010   \n",
              "2        57.0         0.608   0.790  6.0    -6.086     1       0.1560   \n",
              "3         3.0         0.603   0.337  9.0   -10.090     0       0.0360   \n",
              "4        48.0         0.506   0.907  7.0    -4.011     1       0.0391   \n",
              "\n",
              "   acousticness  instrumentalness  liveness  valence    tempo  \\\n",
              "0      0.000801          0.000560    0.0958   0.3800  148.836   \n",
              "1      0.765000          0.839000    0.4590   0.6780   91.594   \n",
              "2      0.066600          0.000084    0.3250   0.8510  155.180   \n",
              "3      0.678000          0.454000    0.1040   0.0785  115.014   \n",
              "4      0.000019          0.336000    0.5730   0.5470  156.050   \n",
              "\n",
              "   duration_in min/ms  time_signature  Class  \n",
              "0            269000.0               4      8  \n",
              "1            284427.0               3     10  \n",
              "2            180314.0               4      9  \n",
              "3            208194.0               4      6  \n",
              "4            188853.0               4      1  "
            ]
          },
          "execution_count": 385,
          "metadata": {},
          "output_type": "execute_result"
        }
      ],
      "source": [
        "data1=data1.drop(['Id', 'Artist Name','Track Name'],axis=1)\n",
        "data1.head()"
      ]
    },
    {
      "cell_type": "markdown",
      "metadata": {
        "id": "llLeP5b-1jB7"
      },
      "source": [
        "## D-handle formating issues"
      ]
    },
    {
      "cell_type": "code",
      "execution_count": 386,
      "metadata": {
        "id": "lXAs-Pbc1yfH"
      },
      "outputs": [],
      "source": [
        "data4=data1"
      ]
    },
    {
      "cell_type": "code",
      "execution_count": 387,
      "metadata": {
        "colab": {
          "base_uri": "https://localhost:8080/"
        },
        "id": "C9AOE-2_1pNc",
        "outputId": "f363ce4b-2815-4496-f666-02b383c1aa7e"
      },
      "outputs": [
        {
          "data": {
            "text/plain": [
              "17       4.238217\n",
              "21       5.400483\n",
              "23       6.014883\n",
              "35       4.613550\n",
              "43       4.458883\n",
              "           ...   \n",
              "11468    3.890450\n",
              "11476    3.638400\n",
              "11478    3.486483\n",
              "11494    5.963117\n",
              "11506    3.168000\n",
              "Name: duration_in min/ms, Length: 1656, dtype: float64"
            ]
          },
          "execution_count": 387,
          "metadata": {},
          "output_type": "execute_result"
        }
      ],
      "source": [
        "# Filter all the rows that have duration value less than \"30\"\n",
        "data4.loc[(data4['duration_in min/ms'] <  1000)]['duration_in min/ms']"
      ]
    },
    {
      "cell_type": "code",
      "execution_count": 388,
      "metadata": {
        "id": "Tv75v5RD1pQF"
      },
      "outputs": [],
      "source": [
        "condition = data1['duration_in min/ms'] \n",
        "\n",
        "# If the value in duration_in_min/ms column is less than 30, then multiply the value with 60,000\n",
        "#data1.loc[condition,'duration_in min/ms'] = data1.loc[condition,'duration_in min/ms']*60000"
      ]
    },
    {
      "cell_type": "code",
      "execution_count": 389,
      "metadata": {
        "id": "r19-xvRO-Fqh"
      },
      "outputs": [],
      "source": [
        "data1['duration_in min/ms']=data1['duration_in min/ms']/1000"
      ]
    },
    {
      "cell_type": "code",
      "execution_count": 390,
      "metadata": {
        "colab": {
          "base_uri": "https://localhost:8080/"
        },
        "id": "WVrXhQ7Kx-dE",
        "outputId": "166be5c5-fdda-42ca-f1a7-acae7e6c423c"
      },
      "outputs": [
        {
          "data": {
            "text/plain": [
              "count    11516.000000\n",
              "mean       200.133816\n",
              "std        111.753566\n",
              "min          0.000502\n",
              "25%        165.377250\n",
              "50%        208.944000\n",
              "75%        251.827000\n",
              "max       1477.187000\n",
              "Name: duration_in min/ms, dtype: float64"
            ]
          },
          "execution_count": 390,
          "metadata": {},
          "output_type": "execute_result"
        }
      ],
      "source": [
        "data1[\"duration_in min/ms\"].describe()"
      ]
    },
    {
      "cell_type": "markdown",
      "metadata": {
        "id": "-SeULXROgjYs"
      },
      "source": [
        "## D- Feature Scaling"
      ]
    },
    {
      "cell_type": "markdown",
      "metadata": {
        "id": "sdelZ_L84TrM"
      },
      "source": [
        "handle with correlated features"
      ]
    },
    {
      "cell_type": "code",
      "execution_count": 397,
      "metadata": {
        "id": "aM6-1REX4Sqp"
      },
      "outputs": [],
      "source": [
        "data1=data1.drop(['key'],axis=1)"
      ]
    },
    {
      "cell_type": "code",
      "execution_count": 398,
      "metadata": {
        "id": "uoCpMgKXT1UG"
      },
      "outputs": [],
      "source": [
        "data1[\"loudness\"]=data1[\"loudness\"]*-1"
      ]
    },
    {
      "cell_type": "markdown",
      "metadata": {
        "id": "KllLAZvGg85B"
      },
      "source": [
        "## E- Standerazation"
      ]
    },
    {
      "cell_type": "code",
      "execution_count": 399,
      "metadata": {
        "id": "qlZwa5ddhQ66"
      },
      "outputs": [],
      "source": [
        "Musice_features=data1.drop(\"Class\",axis=1)\n",
        "Musice_class=data1[\"Class\"]"
      ]
    },
    {
      "cell_type": "code",
      "execution_count": 400,
      "metadata": {
        "colab": {
          "base_uri": "https://localhost:8080/"
        },
        "id": "sd4qyF8GhIuk",
        "outputId": "49b9652f-3829-4f14-f6e5-8ab106f52e46"
      },
      "outputs": [
        {
          "data": {
            "text/plain": [
              "array([[-0.32353474, -0.99504778,  0.3893105 , ...,  0.88109248,\n",
              "         0.6162593 ,  0.20959592],\n",
              "       [-0.556469  , -1.25027577, -0.2669224 , ..., -1.05533663,\n",
              "         0.7543101 , -2.61015479],\n",
              "       [ 0.72466941,  0.39047564,  0.54595964, ...,  1.09570249,\n",
              "        -0.17736057,  0.20959592],\n",
              "       ...,\n",
              "       [ 0.2588009 , -1.09227749,  1.1640887 , ...,  1.94179502,\n",
              "        -0.89062158,  0.20959592],\n",
              "       [ 1.24877149,  1.7699222 , -0.05523437, ..., -0.78108642,\n",
              "         0.39827021,  0.20959592],\n",
              "       [-0.14883405,  2.01907334, -0.80037625, ..., -0.69993109,\n",
              "        -0.33677181,  0.20959592]])"
            ]
          },
          "execution_count": 400,
          "metadata": {},
          "output_type": "execute_result"
        }
      ],
      "source": [
        "from sklearn.pipeline import Pipeline\n",
        "from sklearn.preprocessing import StandardScaler\n",
        "\n",
        "# CODE HERE\n",
        "num_pipeline = Pipeline([('std_scaler', StandardScaler())])\n",
        "\n",
        "Music_num_tr = num_pipeline.fit_transform(Musice_features)\n",
        "Music_num_tr"
      ]
    },
    {
      "cell_type": "code",
      "execution_count": 401,
      "metadata": {
        "id": "QEozqyAzjKnX"
      },
      "outputs": [],
      "source": [
        "Music_prepared=Music_num_tr"
      ]
    },
    {
      "cell_type": "markdown",
      "metadata": {
        "id": "xzZGVBb4gpM5"
      },
      "source": [
        "# 4- Create a Test Set and Train Set"
      ]
    },
    {
      "cell_type": "code",
      "execution_count": 402,
      "metadata": {
        "id": "aZxmNn5dgk24"
      },
      "outputs": [],
      "source": [
        "# train_set=Music_num_tr\n",
        "# #test_set=pd.read_csv(\"test.csv\")"
      ]
    },
    {
      "cell_type": "markdown",
      "metadata": {
        "id": "ZrE5p_KqjkSJ"
      },
      "source": [
        "# 5- Select and Train a Model"
      ]
    },
    {
      "cell_type": "code",
      "execution_count": 403,
      "metadata": {
        "colab": {
          "base_uri": "https://localhost:8080/"
        },
        "id": "zwbkbB5rjm6A",
        "outputId": "1db77730-d2cd-43ad-9558-ecbd27e8be33"
      },
      "outputs": [
        {
          "data": {
            "text/plain": [
              "array([-0.556469  , -1.25027577, -0.2669224 ,  1.36237927,  0.75243835,\n",
              "        0.24210873,  1.66230736,  2.49251065,  1.66364749,  0.80463778,\n",
              "       -1.05533663,  0.7543101 , -2.61015479])"
            ]
          },
          "execution_count": 403,
          "metadata": {},
          "output_type": "execute_result"
        }
      ],
      "source": [
        "try1=Music_prepared[1]\n",
        "try1"
      ]
    },
    {
      "cell_type": "code",
      "execution_count": 404,
      "metadata": {
        "colab": {
          "base_uri": "https://localhost:8080/",
          "height": 193
        },
        "id": "Q_J4xqPrUv7s",
        "outputId": "0733f6ac-7d59-4dc9-bc08-8cde3d5cabca"
      },
      "outputs": [
        {
          "data": {
            "text/html": [
              "\n",
              "  <div id=\"df-67f4e522-ba68-475e-a305-2141f2f49aad\">\n",
              "    <div class=\"colab-df-container\">\n",
              "      <div>\n",
              "<style scoped>\n",
              "    .dataframe tbody tr th:only-of-type {\n",
              "        vertical-align: middle;\n",
              "    }\n",
              "\n",
              "    .dataframe tbody tr th {\n",
              "        vertical-align: top;\n",
              "    }\n",
              "\n",
              "    .dataframe thead th {\n",
              "        text-align: right;\n",
              "    }\n",
              "</style>\n",
              "<table border=\"1\" class=\"dataframe\">\n",
              "  <thead>\n",
              "    <tr style=\"text-align: right;\">\n",
              "      <th></th>\n",
              "      <th>Popularity</th>\n",
              "      <th>danceability</th>\n",
              "      <th>energy</th>\n",
              "      <th>loudness</th>\n",
              "      <th>mode</th>\n",
              "      <th>speechiness</th>\n",
              "      <th>acousticness</th>\n",
              "      <th>instrumentalness</th>\n",
              "      <th>liveness</th>\n",
              "      <th>valence</th>\n",
              "      <th>tempo</th>\n",
              "      <th>duration_in min/ms</th>\n",
              "      <th>time_signature</th>\n",
              "      <th>Class</th>\n",
              "    </tr>\n",
              "  </thead>\n",
              "  <tbody>\n",
              "    <tr>\n",
              "      <th>0</th>\n",
              "      <td>39.0</td>\n",
              "      <td>0.380</td>\n",
              "      <td>0.753</td>\n",
              "      <td>8.175</td>\n",
              "      <td>0</td>\n",
              "      <td>0.0723</td>\n",
              "      <td>0.000801</td>\n",
              "      <td>0.00056</td>\n",
              "      <td>0.0958</td>\n",
              "      <td>0.380</td>\n",
              "      <td>148.836</td>\n",
              "      <td>269.000</td>\n",
              "      <td>4</td>\n",
              "      <td>8</td>\n",
              "    </tr>\n",
              "    <tr>\n",
              "      <th>1</th>\n",
              "      <td>35.0</td>\n",
              "      <td>0.338</td>\n",
              "      <td>0.598</td>\n",
              "      <td>13.432</td>\n",
              "      <td>1</td>\n",
              "      <td>0.1010</td>\n",
              "      <td>0.765000</td>\n",
              "      <td>0.83900</td>\n",
              "      <td>0.4590</td>\n",
              "      <td>0.678</td>\n",
              "      <td>91.594</td>\n",
              "      <td>284.427</td>\n",
              "      <td>3</td>\n",
              "      <td>10</td>\n",
              "    </tr>\n",
              "  </tbody>\n",
              "</table>\n",
              "</div>\n",
              "      <button class=\"colab-df-convert\" onclick=\"convertToInteractive('df-67f4e522-ba68-475e-a305-2141f2f49aad')\"\n",
              "              title=\"Convert this dataframe to an interactive table.\"\n",
              "              style=\"display:none;\">\n",
              "        \n",
              "  <svg xmlns=\"http://www.w3.org/2000/svg\" height=\"24px\"viewBox=\"0 0 24 24\"\n",
              "       width=\"24px\">\n",
              "    <path d=\"M0 0h24v24H0V0z\" fill=\"none\"/>\n",
              "    <path d=\"M18.56 5.44l.94 2.06.94-2.06 2.06-.94-2.06-.94-.94-2.06-.94 2.06-2.06.94zm-11 1L8.5 8.5l.94-2.06 2.06-.94-2.06-.94L8.5 2.5l-.94 2.06-2.06.94zm10 10l.94 2.06.94-2.06 2.06-.94-2.06-.94-.94-2.06-.94 2.06-2.06.94z\"/><path d=\"M17.41 7.96l-1.37-1.37c-.4-.4-.92-.59-1.43-.59-.52 0-1.04.2-1.43.59L10.3 9.45l-7.72 7.72c-.78.78-.78 2.05 0 2.83L4 21.41c.39.39.9.59 1.41.59.51 0 1.02-.2 1.41-.59l7.78-7.78 2.81-2.81c.8-.78.8-2.07 0-2.86zM5.41 20L4 18.59l7.72-7.72 1.47 1.35L5.41 20z\"/>\n",
              "  </svg>\n",
              "      </button>\n",
              "      \n",
              "  <style>\n",
              "    .colab-df-container {\n",
              "      display:flex;\n",
              "      flex-wrap:wrap;\n",
              "      gap: 12px;\n",
              "    }\n",
              "\n",
              "    .colab-df-convert {\n",
              "      background-color: #E8F0FE;\n",
              "      border: none;\n",
              "      border-radius: 50%;\n",
              "      cursor: pointer;\n",
              "      display: none;\n",
              "      fill: #1967D2;\n",
              "      height: 32px;\n",
              "      padding: 0 0 0 0;\n",
              "      width: 32px;\n",
              "    }\n",
              "\n",
              "    .colab-df-convert:hover {\n",
              "      background-color: #E2EBFA;\n",
              "      box-shadow: 0px 1px 2px rgba(60, 64, 67, 0.3), 0px 1px 3px 1px rgba(60, 64, 67, 0.15);\n",
              "      fill: #174EA6;\n",
              "    }\n",
              "\n",
              "    [theme=dark] .colab-df-convert {\n",
              "      background-color: #3B4455;\n",
              "      fill: #D2E3FC;\n",
              "    }\n",
              "\n",
              "    [theme=dark] .colab-df-convert:hover {\n",
              "      background-color: #434B5C;\n",
              "      box-shadow: 0px 1px 3px 1px rgba(0, 0, 0, 0.15);\n",
              "      filter: drop-shadow(0px 1px 2px rgba(0, 0, 0, 0.3));\n",
              "      fill: #FFFFFF;\n",
              "    }\n",
              "  </style>\n",
              "\n",
              "      <script>\n",
              "        const buttonEl =\n",
              "          document.querySelector('#df-67f4e522-ba68-475e-a305-2141f2f49aad button.colab-df-convert');\n",
              "        buttonEl.style.display =\n",
              "          google.colab.kernel.accessAllowed ? 'block' : 'none';\n",
              "\n",
              "        async function convertToInteractive(key) {\n",
              "          const element = document.querySelector('#df-67f4e522-ba68-475e-a305-2141f2f49aad');\n",
              "          const dataTable =\n",
              "            await google.colab.kernel.invokeFunction('convertToInteractive',\n",
              "                                                     [key], {});\n",
              "          if (!dataTable) return;\n",
              "\n",
              "          const docLinkHtml = 'Like what you see? Visit the ' +\n",
              "            '<a target=\"_blank\" href=https://colab.research.google.com/notebooks/data_table.ipynb>data table notebook</a>'\n",
              "            + ' to learn more about interactive tables.';\n",
              "          element.innerHTML = '';\n",
              "          dataTable['output_type'] = 'display_data';\n",
              "          await google.colab.output.renderOutput(dataTable, element);\n",
              "          const docLink = document.createElement('div');\n",
              "          docLink.innerHTML = docLinkHtml;\n",
              "          element.appendChild(docLink);\n",
              "        }\n",
              "      </script>\n",
              "    </div>\n",
              "  </div>\n",
              "  "
            ],
            "text/plain": [
              "   Popularity  danceability  energy  loudness  mode  speechiness  \\\n",
              "0        39.0         0.380   0.753     8.175     0       0.0723   \n",
              "1        35.0         0.338   0.598    13.432     1       0.1010   \n",
              "\n",
              "   acousticness  instrumentalness  liveness  valence    tempo  \\\n",
              "0      0.000801           0.00056    0.0958    0.380  148.836   \n",
              "1      0.765000           0.83900    0.4590    0.678   91.594   \n",
              "\n",
              "   duration_in min/ms  time_signature  Class  \n",
              "0             269.000               4      8  \n",
              "1             284.427               3     10  "
            ]
          },
          "execution_count": 404,
          "metadata": {},
          "output_type": "execute_result"
        }
      ],
      "source": [
        "data1.head(2)"
      ]
    },
    {
      "cell_type": "markdown",
      "metadata": {
        "id": "FenoToMTosiO"
      },
      "source": [
        "1-SVM"
      ]
    },
    {
      "cell_type": "code",
      "execution_count": 405,
      "metadata": {
        "colab": {
          "base_uri": "https://localhost:8080/"
        },
        "id": "9YXhFLZnj898",
        "outputId": "86c49b62-bf89-4260-bc58-c9a24d91b9db"
      },
      "outputs": [
        {
          "data": {
            "text/plain": [
              "array([10])"
            ]
          },
          "execution_count": 405,
          "metadata": {},
          "output_type": "execute_result"
        }
      ],
      "source": [
        "from sklearn.svm import SVC\n",
        "svm_clf = SVC(probability=True)\n",
        "svm_clf.fit(Music_prepared, Musice_class) \n",
        "svm_clf.predict([try1])"
      ]
    },
    {
      "cell_type": "code",
      "execution_count": 406,
      "metadata": {
        "colab": {
          "base_uri": "https://localhost:8080/"
        },
        "id": "Mf_GDe-VkY25",
        "outputId": "5aa2fe02-8b35-49e9-96fa-db9b573d456c"
      },
      "outputs": [
        {
          "data": {
            "text/plain": [
              "10"
            ]
          },
          "execution_count": 406,
          "metadata": {},
          "output_type": "execute_result"
        }
      ],
      "source": [
        "Musice_class[1]"
      ]
    },
    {
      "cell_type": "markdown",
      "metadata": {},
      "source": [
        "Validation"
      ]
    },
    {
      "cell_type": "code",
      "execution_count": 407,
      "metadata": {
        "colab": {
          "base_uri": "https://localhost:8080/"
        },
        "id": "L1Bg4du4ka9V",
        "outputId": "30d4dc74-f660-43b7-9a49-a9d219c19099"
      },
      "outputs": [
        {
          "data": {
            "text/plain": [
              "array([0.55152837, 0.5151409 , 0.54061687, 0.52960263, 0.57315665,\n",
              "       0.51972868, 0.50222108, 0.55725349, 0.51724467, 0.53657392])"
            ]
          },
          "execution_count": 407,
          "metadata": {},
          "output_type": "execute_result"
        }
      ],
      "source": [
        "from sklearn.model_selection import cross_val_score\n",
        "\n",
        "\n",
        "cross_val_score(svm_clf, Music_prepared, Musice_class, cv=10, scoring=\"f1_macro\")"
      ]
    },
    {
      "cell_type": "code",
      "execution_count": 408,
      "metadata": {
        "colab": {
          "base_uri": "https://localhost:8080/"
        },
        "id": "A1YJ0541lra4",
        "outputId": "66884bc6-6c6d-48ce-d90a-f0dbabb11f6d"
      },
      "outputs": [
        {
          "data": {
            "text/plain": [
              "array([[ 323,    0,    1,   12,   32,    0,    0,   10,    0,   17,    5],\n",
              "       [   0,    6,   23,    0,    0,   35,  135,    3,   24,   83,  569],\n",
              "       [   1,    1,  284,    0,    0,   12,   44,    0,   11,   90,  371],\n",
              "       [  53,    0,    0,  169,   13,    1,    1,    9,    0,    5,    7],\n",
              "       [  70,    0,    0,    5,  145,    1,    0,    0,    0,   21,    6],\n",
              "       [   0,    0,   11,    0,    0,  648,   27,    0,    4,  157,   79],\n",
              "       [   0,    6,   55,    1,    0,   91,  350,    3,   63,  206,  880],\n",
              "       [  23,    0,    0,    3,    2,    0,    3,  337,    0,    0,    1],\n",
              "       [   0,    0,    1,    0,    0,    1,   26,    0,  521,    8,  629],\n",
              "       [  53,    0,   57,    3,   25,  139,   73,    2,    2,  820,  441],\n",
              "       [  19,    0,  125,    0,   44,   36,  132,    0,  188,  271, 2352]])"
            ]
          },
          "execution_count": 408,
          "metadata": {},
          "output_type": "execute_result"
        }
      ],
      "source": [
        "from sklearn.model_selection import cross_val_predict\n",
        "from sklearn.metrics import confusion_matrix\n",
        "\n",
        "\n",
        "y_train_pred_1 = cross_val_predict(svm_clf, Music_prepared, Musice_class, cv=3)\n",
        "conf_mx = confusion_matrix(Musice_class, y_train_pred_1)\n",
        "conf_mx"
      ]
    },
    {
      "cell_type": "code",
      "execution_count": 409,
      "metadata": {
        "colab": {
          "base_uri": "https://localhost:8080/"
        },
        "id": "nVU7GkAbpySK",
        "outputId": "e7740fc6-1353-4138-ecb3-0f5e4ea67f92"
      },
      "outputs": [
        {
          "name": "stdout",
          "output_type": "stream",
          "text": [
            "              precision    recall  f1-score   support\n",
            "\n",
            "           0       0.60      0.81      0.69       400\n",
            "           1       0.46      0.01      0.01       878\n",
            "           2       0.51      0.35      0.41       814\n",
            "           3       0.88      0.66      0.75       258\n",
            "           4       0.56      0.58      0.57       248\n",
            "           5       0.67      0.70      0.69       926\n",
            "           6       0.44      0.21      0.29      1655\n",
            "           7       0.93      0.91      0.92       369\n",
            "           8       0.64      0.44      0.52      1186\n",
            "           9       0.49      0.51      0.50      1615\n",
            "          10       0.44      0.74      0.55      3167\n",
            "\n",
            "    accuracy                           0.52     11516\n",
            "   macro avg       0.60      0.54      0.54     11516\n",
            "weighted avg       0.53      0.52      0.48     11516\n",
            "\n"
          ]
        }
      ],
      "source": [
        "from sklearn.metrics import classification_report\n",
        "print(classification_report(Musice_class, y_train_pred_1))"
      ]
    },
    {
      "cell_type": "code",
      "execution_count": null,
      "metadata": {
        "colab": {
          "base_uri": "https://localhost:8080/",
          "height": 275
        },
        "id": "bAMsxo_3k_6f",
        "outputId": "8de638b7-ac32-4e8f-d30c-2915e56fdda7"
      },
      "outputs": [
        {
          "data": {
            "image/png": "[encoded data removed]",
            "text/plain": [
              "<Figure size 288x288 with 1 Axes>"
            ]
          },
          "metadata": {
            "needs_background": "light"
          },
          "output_type": "display_data"
        }
      ],
      "source": [
        "# CODE HERE\n",
        "plt.matshow(conf_mx, cmap=plt.cm.gray)\n",
        "plt.show()"
      ]
    },
    {
      "cell_type": "code",
      "execution_count": null,
      "metadata": {
        "id": "YmT3K2J3mprw"
      },
      "outputs": [],
      "source": [
        "row_sums = conf_mx.sum(axis=1, keepdims=True)\n",
        "norm_conf_mx = conf_mx / row_sums"
      ]
    },
    {
      "cell_type": "code",
      "execution_count": null,
      "metadata": {
        "colab": {
          "base_uri": "https://localhost:8080/",
          "height": 275
        },
        "id": "qt4vwINymt8H",
        "outputId": "dfc57fff-cf0f-42a3-9355-6c48b2997f6c"
      },
      "outputs": [
        {
          "data": {
            "image/png": "[encoded data removed]",
            "text/plain": [
              "<Figure size 288x288 with 1 Axes>"
            ]
          },
          "metadata": {
            "needs_background": "light"
          },
          "output_type": "display_data"
        }
      ],
      "source": [
        "# CODE HERE\n",
        "np.fill_diagonal(norm_conf_mx, 0)\n",
        "plt.matshow(norm_conf_mx, cmap=plt.cm.gray)\n",
        "plt.show()"
      ]
    },
    {
      "cell_type": "markdown",
      "metadata": {
        "id": "Nn_4J08yo6Yd"
      },
      "source": [
        "2-Random Forest"
      ]
    },
    {
      "cell_type": "code",
      "execution_count": 410,
      "metadata": {
        "id": "PHhbr7lXo-4C"
      },
      "outputs": [],
      "source": [
        "from sklearn.ensemble import RandomForestClassifier\n",
        "forest_clf = RandomForestClassifier(random_state=42)\n"
      ]
    },
    {
      "cell_type": "code",
      "execution_count": 411,
      "metadata": {
        "colab": {
          "base_uri": "https://localhost:8080/"
        },
        "id": "TZ4j5M8IpDII",
        "outputId": "e36631ab-1eef-4ffd-9571-511f79db66ea"
      },
      "outputs": [
        {
          "data": {
            "text/plain": [
              "array([10])"
            ]
          },
          "execution_count": 411,
          "metadata": {},
          "output_type": "execute_result"
        }
      ],
      "source": [
        "forest_clf.fit(Music_prepared, Musice_class)\n",
        "forest_clf.predict([try1])"
      ]
    },
    {
      "cell_type": "code",
      "execution_count": 412,
      "metadata": {
        "colab": {
          "base_uri": "https://localhost:8080/"
        },
        "id": "4XRd-8qTubj_",
        "outputId": "71bd4272-fd51-48e8-c2cd-fa48200e28e0"
      },
      "outputs": [
        {
          "data": {
            "text/plain": [
              "10"
            ]
          },
          "execution_count": 412,
          "metadata": {},
          "output_type": "execute_result"
        }
      ],
      "source": [
        "Musice_class[1]"
      ]
    },
    {
      "cell_type": "markdown",
      "metadata": {
        "id": "apuj0IMIqkaJ"
      },
      "source": [
        "validation"
      ]
    },
    {
      "cell_type": "code",
      "execution_count": 413,
      "metadata": {
        "colab": {
          "base_uri": "https://localhost:8080/"
        },
        "id": "qq-sDNdZpVpG",
        "outputId": "cbb89b8f-72fd-4fb3-e458-f8fe5c2c20e4"
      },
      "outputs": [
        {
          "data": {
            "text/plain": [
              "array([0.56114459, 0.54733399, 0.54264953])"
            ]
          },
          "execution_count": 413,
          "metadata": {},
          "output_type": "execute_result"
        }
      ],
      "source": [
        "from sklearn.model_selection import cross_val_score\n",
        "cross_val_score(forest_clf, Music_prepared, Musice_class, cv=3, scoring=\"f1_macro\")"
      ]
    },
    {
      "cell_type": "code",
      "execution_count": 414,
      "metadata": {
        "colab": {
          "base_uri": "https://localhost:8080/"
        },
        "id": "RLhU9l4jthh-",
        "outputId": "64b7a438-dd60-4c53-a2f0-9c97f02ace80"
      },
      "outputs": [
        {
          "data": {
            "text/plain": [
              "array([[ 316,    0,    0,   22,   25,    0,    1,   12,    0,   18,    6],\n",
              "       [   0,    8,   25,    0,    0,   29,  300,    0,   22,   72,  422],\n",
              "       [   0,    6,  292,    0,    0,   13,   79,    0,    4,   74,  346],\n",
              "       [  43,    0,    0,  187,   11,    0,    0,    9,    0,    4,    4],\n",
              "       [  59,    0,    0,    5,  143,    0,    0,    1,    0,   32,    8],\n",
              "       [   0,    3,    9,    0,    0,  660,   37,    0,    0,  148,   69],\n",
              "       [   0,  155,   60,    0,    0,   75,  408,    0,   61,  184,  712],\n",
              "       [  19,    0,    0,    6,    0,    0,    0,  344,    0,    0,    0],\n",
              "       [   0,    1,    1,    0,    0,    1,   36,    0,  610,    8,  529],\n",
              "       [  32,   14,   41,    4,   18,  149,  121,    1,    2,  838,  395],\n",
              "       [  18,  102,  131,    3,   25,   35,  263,    0,  277,  272, 2041]])"
            ]
          },
          "execution_count": 414,
          "metadata": {},
          "output_type": "execute_result"
        }
      ],
      "source": [
        "from sklearn.model_selection import cross_val_predict\n",
        "from sklearn.metrics import confusion_matrix\n",
        "\n",
        "\n",
        "y_train_pred_2 = cross_val_predict(forest_clf, Music_prepared, Musice_class, cv=3)\n",
        "conf_mx = confusion_matrix(Musice_class, y_train_pred_2)\n",
        "conf_mx"
      ]
    },
    {
      "cell_type": "code",
      "execution_count": 415,
      "metadata": {
        "colab": {
          "base_uri": "https://localhost:8080/"
        },
        "id": "Fah9tpd7qq9K",
        "outputId": "5e1a32a8-513e-41b0-e676-cd77ce11d320"
      },
      "outputs": [
        {
          "name": "stdout",
          "output_type": "stream",
          "text": [
            "              precision    recall  f1-score   support\n",
            "\n",
            "           0       0.65      0.79      0.71       400\n",
            "           1       0.03      0.01      0.01       878\n",
            "           2       0.52      0.36      0.43       814\n",
            "           3       0.82      0.72      0.77       258\n",
            "           4       0.64      0.58      0.61       248\n",
            "           5       0.69      0.71      0.70       926\n",
            "           6       0.33      0.25      0.28      1655\n",
            "           7       0.94      0.93      0.93       369\n",
            "           8       0.62      0.51      0.56      1186\n",
            "           9       0.51      0.52      0.51      1615\n",
            "          10       0.45      0.64      0.53      3167\n",
            "\n",
            "    accuracy                           0.51     11516\n",
            "   macro avg       0.56      0.55      0.55     11516\n",
            "weighted avg       0.49      0.51      0.49     11516\n",
            "\n"
          ]
        }
      ],
      "source": [
        "from sklearn.metrics import classification_report\n",
        "print(classification_report(Musice_class, y_train_pred_2))"
      ]
    },
    {
      "cell_type": "markdown",
      "metadata": {
        "id": "DR5FOXcxr_fy"
      },
      "source": [
        "3-KNN"
      ]
    },
    {
      "cell_type": "code",
      "execution_count": 416,
      "metadata": {
        "colab": {
          "base_uri": "https://localhost:8080/"
        },
        "id": "c0sw3dcWsAk5",
        "outputId": "13427f25-f830-46e4-98a0-624d5fb891cc"
      },
      "outputs": [
        {
          "data": {
            "text/plain": [
              "KNeighborsClassifier(n_neighbors=11)"
            ]
          },
          "execution_count": 416,
          "metadata": {},
          "output_type": "execute_result"
        }
      ],
      "source": [
        "from sklearn.neighbors import KNeighborsClassifier\n",
        "neigh = KNeighborsClassifier(n_neighbors=11)\n",
        "neigh.fit(Music_prepared, Musice_class)"
      ]
    },
    {
      "cell_type": "code",
      "execution_count": 417,
      "metadata": {
        "colab": {
          "base_uri": "https://localhost:8080/"
        },
        "id": "ASwRR_TqtPgI",
        "outputId": "5b0458c9-da9b-4a9c-d701-ca35aa8112be"
      },
      "outputs": [
        {
          "data": {
            "text/plain": [
              "array([10])"
            ]
          },
          "execution_count": 417,
          "metadata": {},
          "output_type": "execute_result"
        }
      ],
      "source": [
        "neigh.predict([try1])"
      ]
    },
    {
      "cell_type": "code",
      "execution_count": 418,
      "metadata": {
        "colab": {
          "base_uri": "https://localhost:8080/"
        },
        "id": "97Ww_hUltV9j",
        "outputId": "3693825a-853a-46fa-bcf5-f58cefccd28f"
      },
      "outputs": [
        {
          "data": {
            "text/plain": [
              "array([0.53305249, 0.5103116 , 0.51333698, 0.50951045, 0.53866038,\n",
              "       0.51775344, 0.45625414, 0.52535736, 0.49425049, 0.50761877])"
            ]
          },
          "execution_count": 418,
          "metadata": {},
          "output_type": "execute_result"
        }
      ],
      "source": [
        "from sklearn.model_selection import cross_val_score\n",
        "cross_val_score(neigh, Music_prepared, Musice_class, cv=10, scoring=\"f1_macro\")"
      ]
    },
    {
      "cell_type": "code",
      "execution_count": 419,
      "metadata": {
        "colab": {
          "base_uri": "https://localhost:8080/"
        },
        "id": "ZQdMzYnLtZ0p",
        "outputId": "174f2a16-e307-4b39-8bcd-b5c227b29f0e"
      },
      "outputs": [
        {
          "data": {
            "text/plain": [
              "array([[ 299,    1,    3,   17,   31,    0,    7,   14,    1,   16,   11],\n",
              "       [   0,   66,   39,    0,    0,   37,  188,   11,   51,   69,  417],\n",
              "       [   1,   38,  277,    0,    0,   11,   88,    2,   24,  101,  272],\n",
              "       [  64,    0,    5,  145,   14,    8,    0,   11,    0,    9,    2],\n",
              "       [  58,    0,    3,   11,  143,    1,    0,    0,    0,   22,   10],\n",
              "       [   1,   13,   20,    0,    0,  626,   55,    0,   11,  122,   78],\n",
              "       [   2,  108,   78,    3,    0,   72,  393,   22,  130,  216,  631],\n",
              "       [  30,    0,    0,    2,    1,    0,    1,  333,    0,    0,    2],\n",
              "       [   0,   19,   10,    0,    0,    3,   73,    1,  575,   22,  483],\n",
              "       [  49,   37,   73,    4,   36,  142,  159,    2,   20,  742,  351],\n",
              "       [  19,  144,  176,    6,   51,   34,  327,    0,  355,  289, 1766]])"
            ]
          },
          "execution_count": 419,
          "metadata": {},
          "output_type": "execute_result"
        }
      ],
      "source": [
        "from sklearn.model_selection import cross_val_predict\n",
        "from sklearn.metrics import confusion_matrix\n",
        "\n",
        "\n",
        "y_train_pred_3 = cross_val_predict(neigh, Music_prepared, Musice_class, cv=3)\n",
        "conf_mx = confusion_matrix(Musice_class, y_train_pred_3)\n",
        "conf_mx"
      ]
    },
    {
      "cell_type": "code",
      "execution_count": 420,
      "metadata": {
        "colab": {
          "base_uri": "https://localhost:8080/"
        },
        "id": "d0cM6fZet1MO",
        "outputId": "6b7f8e3f-a7bf-4303-a753-a93f8d13837f"
      },
      "outputs": [
        {
          "name": "stdout",
          "output_type": "stream",
          "text": [
            "              precision    recall  f1-score   support\n",
            "\n",
            "           0       0.57      0.75      0.65       400\n",
            "           1       0.15      0.08      0.10       878\n",
            "           2       0.40      0.34      0.37       814\n",
            "           3       0.77      0.56      0.65       258\n",
            "           4       0.52      0.58      0.55       248\n",
            "           5       0.67      0.68      0.67       926\n",
            "           6       0.30      0.24      0.27      1655\n",
            "           7       0.84      0.90      0.87       369\n",
            "           8       0.49      0.48      0.49      1186\n",
            "           9       0.46      0.46      0.46      1615\n",
            "          10       0.44      0.56      0.49      3167\n",
            "\n",
            "    accuracy                           0.47     11516\n",
            "   macro avg       0.51      0.51      0.51     11516\n",
            "weighted avg       0.45      0.47      0.45     11516\n",
            "\n"
          ]
        }
      ],
      "source": [
        "from sklearn.metrics import classification_report\n",
        "print(classification_report(Musice_class, y_train_pred_3))"
      ]
    },
    {
      "cell_type": "markdown",
      "metadata": {
        "id": "-u793A0RvRVg"
      },
      "source": [
        "4-Gradient Boosting"
      ]
    },
    {
      "cell_type": "code",
      "execution_count": 421,
      "metadata": {
        "colab": {
          "base_uri": "https://localhost:8080/"
        },
        "id": "4KsKnbEcuJH2",
        "outputId": "bb13358d-2ea8-434d-c8ed-e21e404d7d91"
      },
      "outputs": [
        {
          "data": {
            "text/plain": [
              "0.6317297672803056"
            ]
          },
          "execution_count": 421,
          "metadata": {},
          "output_type": "execute_result"
        }
      ],
      "source": [
        "from sklearn.ensemble import GradientBoostingClassifier\n",
        "\n",
        "GB_clf = GradientBoostingClassifier()\n",
        "GB_clf.fit(Music_prepared, Musice_class,)\n",
        "GB_clf.score(Music_prepared, Musice_class)"
      ]
    },
    {
      "cell_type": "code",
      "execution_count": 423,
      "metadata": {
        "colab": {
          "base_uri": "https://localhost:8080/"
        },
        "id": "rIsPP85HyLqT",
        "outputId": "d31536fe-c542-4968-dd67-65b83279ac27"
      },
      "outputs": [
        {
          "data": {
            "text/plain": [
              "array([[ 296,    0,    0,   28,   38,    2,    0,   15,    0,   17,    4],\n",
              "       [   0,    8,   37,    0,    0,   38,  217,    0,   39,   74,  465],\n",
              "       [   0,    6,  343,    0,    0,   10,   76,    0,    9,   82,  288],\n",
              "       [  57,    0,    0,  179,    7,    1,    0,    7,    0,    5,    2],\n",
              "       [  55,    0,    0,    5,  153,    0,    0,    1,    0,   26,    8],\n",
              "       [   0,    1,   17,    0,    0,  645,   40,    1,    0,  159,   63],\n",
              "       [   0,   33,   74,    0,    0,   71,  478,    0,   82,  165,  752],\n",
              "       [  24,    0,    0,   11,    1,    1,    0,  332,    0,    0,    0],\n",
              "       [   0,    2,    0,    0,    0,    0,   46,    0,  642,    8,  488],\n",
              "       [  39,    8,   61,    3,   29,  142,  107,    2,    4,  875,  345],\n",
              "       [  23,   18,  138,    6,   27,   37,  222,    1,  301,  285, 2109]])"
            ]
          },
          "execution_count": 423,
          "metadata": {},
          "output_type": "execute_result"
        }
      ],
      "source": [
        "from sklearn.model_selection import cross_val_predict\n",
        "from sklearn.metrics import confusion_matrix\n",
        "\n",
        "\n",
        "y_train_pred_4 = cross_val_predict(GB_clf, Music_prepared, Musice_class, cv=3)\n",
        "conf_mx = confusion_matrix(Musice_class, y_train_pred_4)\n",
        "conf_mx"
      ]
    },
    {
      "cell_type": "code",
      "execution_count": 424,
      "metadata": {
        "colab": {
          "base_uri": "https://localhost:8080/"
        },
        "id": "ske543ljyO-u",
        "outputId": "450ad5f8-2b64-43e2-f0ae-83f881193567"
      },
      "outputs": [
        {
          "name": "stdout",
          "output_type": "stream",
          "text": [
            "              precision    recall  f1-score   support\n",
            "\n",
            "           0       0.60      0.74      0.66       400\n",
            "           1       0.11      0.01      0.02       878\n",
            "           2       0.51      0.42      0.46       814\n",
            "           3       0.77      0.69      0.73       258\n",
            "           4       0.60      0.62      0.61       248\n",
            "           5       0.68      0.70      0.69       926\n",
            "           6       0.40      0.29      0.34      1655\n",
            "           7       0.92      0.90      0.91       369\n",
            "           8       0.60      0.54      0.57      1186\n",
            "           9       0.52      0.54      0.53      1615\n",
            "          10       0.47      0.67      0.55      3167\n",
            "\n",
            "    accuracy                           0.53     11516\n",
            "   macro avg       0.56      0.56      0.55     11516\n",
            "weighted avg       0.50      0.53      0.50     11516\n",
            "\n"
          ]
        }
      ],
      "source": [
        "from sklearn.metrics import classification_report\n",
        "print(classification_report(Musice_class, y_train_pred_4))"
      ]
    },
    {
      "cell_type": "code",
      "execution_count": null,
      "metadata": {
        "colab": {
          "base_uri": "https://localhost:8080/"
        },
        "id": "Z82nOeowvuue",
        "outputId": "df5bb585-c33b-4a05-e7c6-20eb9501e7da"
      },
      "outputs": [
        {
          "data": {
            "text/plain": [
              "array([10])"
            ]
          },
          "execution_count": 201,
          "metadata": {},
          "output_type": "execute_result"
        }
      ],
      "source": [
        "GB_clf.predict([try1])"
      ]
    },
    {
      "cell_type": "markdown",
      "metadata": {
        "id": "cLuHPT4-XgYj"
      },
      "source": [
        "5-XGBooster:"
      ]
    },
    {
      "cell_type": "code",
      "execution_count": 425,
      "metadata": {
        "id": "fVa6Rsph2yq2"
      },
      "outputs": [],
      "source": [
        "from xgboost import XGBClassifier"
      ]
    },
    {
      "cell_type": "code",
      "execution_count": 426,
      "metadata": {
        "id": "Dwmncf_zaVos"
      },
      "outputs": [],
      "source": [
        "XGB_clr=XGBClassifier()\n",
        "scores = cross_val_score(XGB_clr, Music_prepared, Musice_class, scoring='f1_macro')"
      ]
    },
    {
      "cell_type": "code",
      "execution_count": 427,
      "metadata": {
        "colab": {
          "base_uri": "https://localhost:8080/"
        },
        "id": "ZrOREq_kaEau",
        "outputId": "e3b5a5bd-ea51-4199-a089-d1c550a6432e"
      },
      "outputs": [
        {
          "data": {
            "text/plain": [
              "array([0.55718978, 0.56576316, 0.56033214, 0.55239549, 0.53934498])"
            ]
          },
          "execution_count": 427,
          "metadata": {},
          "output_type": "execute_result"
        }
      ],
      "source": [
        "scores"
      ]
    },
    {
      "cell_type": "code",
      "execution_count": 428,
      "metadata": {
        "colab": {
          "base_uri": "https://localhost:8080/"
        },
        "id": "80nD5ua2aB0c",
        "outputId": "0699277a-9b0c-46c4-a65f-3597ce78a86a"
      },
      "outputs": [
        {
          "data": {
            "text/plain": [
              "array([[ 304,    0,    0,   27,   42,    0,    0,   13,    0,   11,    3],\n",
              "       [   0,    2,   38,    0,    0,   38,  195,    0,   40,   75,  490],\n",
              "       [   0,    1,  324,    0,    0,   17,   67,    0,    5,   71,  329],\n",
              "       [  55,    0,    0,  178,    9,    0,    0,    9,    0,    4,    3],\n",
              "       [  59,    0,    0,    3,  155,    0,    0,    0,    0,   23,    8],\n",
              "       [   0,    0,   14,    0,    0,  678,   34,    0,    0,  135,   65],\n",
              "       [   0,    4,   71,    0,    0,   90,  458,    0,   86,  164,  782],\n",
              "       [  20,    0,    0,   10,    0,    0,    0,  339,    0,    0,    0],\n",
              "       [   0,    0,    1,    0,    0,    1,   43,    0,  653,    6,  482],\n",
              "       [  42,    0,   56,    8,   22,  159,   97,    0,    4,  838,  389],\n",
              "       [  23,    1,  139,    4,   29,   42,  184,    0,  296,  279, 2170]])"
            ]
          },
          "execution_count": 428,
          "metadata": {},
          "output_type": "execute_result"
        }
      ],
      "source": [
        "y_train_pred_23 = cross_val_predict(XGB_clr, Music_prepared, Musice_class, cv=3)\n",
        "conf_mx = confusion_matrix(Musice_class, y_train_pred_23)\n",
        "conf_mx"
      ]
    },
    {
      "cell_type": "code",
      "execution_count": 429,
      "metadata": {
        "colab": {
          "base_uri": "https://localhost:8080/"
        },
        "id": "qkkJS3-OaLxI",
        "outputId": "efa3b256-e39d-4252-cba7-eef60a5eeac8"
      },
      "outputs": [
        {
          "name": "stdout",
          "output_type": "stream",
          "text": [
            "              precision    recall  f1-score   support\n",
            "\n",
            "           0       0.60      0.76      0.67       400\n",
            "           1       0.25      0.00      0.00       878\n",
            "           2       0.50      0.40      0.44       814\n",
            "           3       0.77      0.69      0.73       258\n",
            "           4       0.60      0.62      0.61       248\n",
            "           5       0.66      0.73      0.70       926\n",
            "           6       0.42      0.28      0.34      1655\n",
            "           7       0.94      0.92      0.93       369\n",
            "           8       0.60      0.55      0.58      1186\n",
            "           9       0.52      0.52      0.52      1615\n",
            "          10       0.46      0.69      0.55      3167\n",
            "\n",
            "    accuracy                           0.53     11516\n",
            "   macro avg       0.58      0.56      0.55     11516\n",
            "weighted avg       0.51      0.53      0.50     11516\n",
            "\n"
          ]
        }
      ],
      "source": [
        "from sklearn.metrics import classification_report\n",
        "print(classification_report(Musice_class, y_train_pred_23))"
      ]
    },
    {
      "cell_type": "markdown",
      "metadata": {
        "id": "MLD_hhw_Cmmf"
      },
      "source": [
        "6- OVR-XGBooster"
      ]
    },
    {
      "cell_type": "code",
      "execution_count": 430,
      "metadata": {
        "colab": {
          "base_uri": "https://localhost:8080/"
        },
        "id": "OuGnzE8lDSxm",
        "outputId": "5616c1df-bb99-475f-e400-200d6666efb2"
      },
      "outputs": [
        {
          "data": {
            "text/plain": [
              "OneVsRestClassifier(estimator=XGBClassifier())"
            ]
          },
          "execution_count": 430,
          "metadata": {},
          "output_type": "execute_result"
        }
      ],
      "source": [
        "from sklearn.multiclass import OneVsRestClassifier\n",
        "from xgboost import XGBClassifier\n",
        "xgb_classifier = OneVsRestClassifier(XGBClassifier())\n",
        "xgb_classifier.fit(Music_prepared, Musice_class)\n"
      ]
    },
    {
      "cell_type": "code",
      "execution_count": 431,
      "metadata": {
        "id": "k1jcTyG7DS0L"
      },
      "outputs": [],
      "source": [
        "xbg_predictions_labels = xgb_classifier.predict(Music_prepared)"
      ]
    },
    {
      "cell_type": "code",
      "execution_count": 432,
      "metadata": {
        "colab": {
          "base_uri": "https://localhost:8080/"
        },
        "id": "2ynlsiojDS2w",
        "outputId": "a01d5caa-96e2-4fbc-d68c-2013e3968351"
      },
      "outputs": [
        {
          "data": {
            "text/plain": [
              "array([[ 354,    0,    0,   11,   20,    0,    0,    7,    0,    5,    3],\n",
              "       [   0,    9,   32,    0,    0,   35,  196,    0,   32,   75,  499],\n",
              "       [   0,    0,  397,    0,    0,   14,   61,    0,    8,   60,  274],\n",
              "       [  25,    0,    0,  219,    6,    0,    0,    4,    0,    2,    2],\n",
              "       [  28,    0,    0,    0,  205,    0,    0,    0,    0,   12,    3],\n",
              "       [   0,    0,   12,    0,    0,  718,   19,    0,    0,  118,   59],\n",
              "       [   0,    2,   63,    0,    0,   75,  560,    0,   64,  144,  747],\n",
              "       [   5,    0,    0,    4,    0,    0,    0,  360,    0,    0,    0],\n",
              "       [   0,    0,    0,    0,    0,    1,   40,    0,  702,    6,  437],\n",
              "       [  38,    1,   52,    5,   18,  139,   73,    0,    4,  924,  361],\n",
              "       [  18,    0,  102,    2,   16,   34,  147,    0,  205,  223, 2420]])"
            ]
          },
          "execution_count": 432,
          "metadata": {},
          "output_type": "execute_result"
        }
      ],
      "source": [
        "conf_mx = confusion_matrix(Musice_class, xbg_predictions_labels)\n",
        "conf_mx"
      ]
    },
    {
      "cell_type": "code",
      "execution_count": 433,
      "metadata": {
        "colab": {
          "base_uri": "https://localhost:8080/"
        },
        "id": "Pl8R3Vf1EKvk",
        "outputId": "6ce3cacd-95fb-4fe4-f5b2-8c552ca38525"
      },
      "outputs": [
        {
          "name": "stdout",
          "output_type": "stream",
          "text": [
            "              precision    recall  f1-score   support\n",
            "\n",
            "           0       0.76      0.89      0.82       400\n",
            "           1       0.75      0.01      0.02       878\n",
            "           2       0.60      0.49      0.54       814\n",
            "           3       0.91      0.85      0.88       258\n",
            "           4       0.77      0.83      0.80       248\n",
            "           5       0.71      0.78      0.74       926\n",
            "           6       0.51      0.34      0.41      1655\n",
            "           7       0.97      0.98      0.97       369\n",
            "           8       0.69      0.59      0.64      1186\n",
            "           9       0.59      0.57      0.58      1615\n",
            "          10       0.50      0.76      0.61      3167\n",
            "\n",
            "    accuracy                           0.60     11516\n",
            "   macro avg       0.71      0.64      0.64     11516\n",
            "weighted avg       0.62      0.60      0.57     11516\n",
            "\n"
          ]
        }
      ],
      "source": [
        "from sklearn.metrics import classification_report\n",
        "print(classification_report(Musice_class, xbg_predictions_labels))"
      ]
    },
    {
      "cell_type": "markdown",
      "metadata": {
        "id": "8tSC9m91CsvA"
      },
      "source": [
        "7-OVO_XGBooster"
      ]
    },
    {
      "cell_type": "code",
      "execution_count": 434,
      "metadata": {
        "colab": {
          "base_uri": "https://localhost:8080/"
        },
        "id": "PFJ6nX3GCr45",
        "outputId": "84272457-b55a-4ef3-fa59-4033c4b682d9"
      },
      "outputs": [
        {
          "data": {
            "text/plain": [
              "OneVsOneClassifier(estimator=XGBClassifier(probability=True))"
            ]
          },
          "execution_count": 434,
          "metadata": {},
          "output_type": "execute_result"
        }
      ],
      "source": [
        "from sklearn.multiclass import OneVsOneClassifier\n",
        "#from xgboost import OneVsOneClassifier\n",
        "xgb_classifier1 = OneVsOneClassifier(XGBClassifier(probability=True))\n",
        "xgb_classifier1.fit(Music_prepared, Musice_class)"
      ]
    },
    {
      "cell_type": "code",
      "execution_count": 436,
      "metadata": {
        "id": "lrCDMhWuCsHY"
      },
      "outputs": [],
      "source": [
        "xbg_predictions_labels2 = xgb_classifier1.predict(Music_prepared)"
      ]
    },
    {
      "cell_type": "code",
      "execution_count": 437,
      "metadata": {
        "colab": {
          "base_uri": "https://localhost:8080/"
        },
        "id": "T4vAFr4_CsLy",
        "outputId": "859be3a5-08ae-488d-af8e-7a27ecdd6f21"
      },
      "outputs": [
        {
          "data": {
            "text/plain": [
              "array([[ 377,    0,    0,    5,   12,    0,    0,    2,    0,    2,    2],\n",
              "       [   0,   26,   31,    0,    0,   32,  185,    0,   39,   66,  499],\n",
              "       [   0,    0,  417,    0,    0,    7,   47,    0,    5,   59,  279],\n",
              "       [  11,    0,    0,  242,    4,    0,    0,    0,    0,    1,    0],\n",
              "       [  16,    0,    0,    0,  225,    0,    0,    0,    0,    7,    0],\n",
              "       [   0,    1,   10,    0,    0,  708,   28,    0,    1,  118,   60],\n",
              "       [   0,    2,   70,    0,    0,   41,  602,    0,   62,  109,  769],\n",
              "       [   1,    0,    0,    1,    0,    0,    0,  367,    0,    0,    0],\n",
              "       [   0,    0,    2,    0,    0,    1,   25,    0,  716,    6,  436],\n",
              "       [  13,    0,   43,    1,    8,  113,   85,    0,    3,  995,  354],\n",
              "       [   5,    0,   98,    0,    3,   31,  137,    0,  195,  206, 2492]])"
            ]
          },
          "execution_count": 437,
          "metadata": {},
          "output_type": "execute_result"
        }
      ],
      "source": [
        "conf_mx = confusion_matrix(Musice_class, xbg_predictions_labels2)\n",
        "conf_mx"
      ]
    },
    {
      "cell_type": "code",
      "execution_count": 438,
      "metadata": {
        "colab": {
          "base_uri": "https://localhost:8080/"
        },
        "id": "zpFT0uglEJ01",
        "outputId": "d2b9281a-f7cd-45ab-922e-2d8d24f3d80f"
      },
      "outputs": [
        {
          "name": "stdout",
          "output_type": "stream",
          "text": [
            "              precision    recall  f1-score   support\n",
            "\n",
            "           0       0.89      0.94      0.92       400\n",
            "           1       0.90      0.03      0.06       878\n",
            "           2       0.62      0.51      0.56       814\n",
            "           3       0.97      0.94      0.95       258\n",
            "           4       0.89      0.91      0.90       248\n",
            "           5       0.76      0.76      0.76       926\n",
            "           6       0.54      0.36      0.44      1655\n",
            "           7       0.99      0.99      0.99       369\n",
            "           8       0.70      0.60      0.65      1186\n",
            "           9       0.63      0.62      0.62      1615\n",
            "          10       0.51      0.79      0.62      3167\n",
            "\n",
            "    accuracy                           0.62     11516\n",
            "   macro avg       0.77      0.68      0.68     11516\n",
            "weighted avg       0.66      0.62      0.60     11516\n",
            "\n"
          ]
        }
      ],
      "source": [
        "from sklearn.metrics import classification_report\n",
        "print(classification_report(Musice_class, xbg_predictions_labels2))"
      ]
    },
    {
      "cell_type": "markdown",
      "metadata": {
        "id": "5a6fTGoq-jQP"
      },
      "source": [
        "8-NN"
      ]
    },
    {
      "cell_type": "markdown",
      "metadata": {},
      "source": [
        "9-DNN"
      ]
    },
    {
      "cell_type": "markdown",
      "metadata": {
        "id": "YRghSWa9upfg"
      },
      "source": [
        "## GridSearchCV"
      ]
    },
    {
      "cell_type": "code",
      "execution_count": 442,
      "metadata": {
        "id": "0aPYjKrKureg"
      },
      "outputs": [],
      "source": [
        "from sklearn.model_selection import GridSearchCV"
      ]
    },
    {
      "cell_type": "code",
      "execution_count": 443,
      "metadata": {
        "colab": {
          "base_uri": "https://localhost:8080/"
        },
        "id": "UUZDQAKOuqi5",
        "outputId": "a533f8cc-91cc-4807-dcf0-388827c7edd3"
      },
      "outputs": [
        {
          "data": {
            "text/plain": [
              "GridSearchCV(cv=5, estimator=RandomForestClassifier(),\n",
              "             param_grid=[{'max_features': [4, 6], 'n_estimators': [3, 10, 30]},\n",
              "                         {'bootstrap': [True], 'max_features': [2, 3, 4, 6],\n",
              "                          'n_estimators': [50, 100]}],\n",
              "             return_train_score=True, scoring='f1_macro')"
            ]
          },
          "execution_count": 443,
          "metadata": {},
          "output_type": "execute_result"
        }
      ],
      "source": [
        "# CODE HERE\n",
        "param_grid = [\n",
        "{'n_estimators': [3, 10, 30], 'max_features': [ 4, 6]},\n",
        "{'bootstrap': [True], 'n_estimators': [50,100], 'max_features': [2, 3, 4,6]},\n",
        "]\n",
        "\n",
        "forest_clf1= RandomForestClassifier()\n",
        "\n",
        "grid_search1 = GridSearchCV(forest_clf1, param_grid, cv=5,scoring='f1_macro',return_train_score=True)\n",
        "\n",
        "grid_search1.fit(Music_prepared, Musice_class)"
      ]
    },
    {
      "cell_type": "code",
      "execution_count": 444,
      "metadata": {
        "colab": {
          "base_uri": "https://localhost:8080/"
        },
        "id": "ZVvx7KH1O4W3",
        "outputId": "9a00aca9-f896-4fad-bfee-47a774789b7c"
      },
      "outputs": [
        {
          "data": {
            "text/plain": [
              "GridSearchCV(cv=5, estimator=RandomForestClassifier(),\n",
              "             param_grid=[{'max_features': [4, 6], 'n_estimators': [3, 10, 30]},\n",
              "                         {'bootstrap': [True], 'max_features': [2, 3, 4, 6],\n",
              "                          'n_estimators': [50, 100]}],\n",
              "             return_train_score=True, scoring='f1_macro')"
            ]
          },
          "execution_count": 444,
          "metadata": {},
          "output_type": "execute_result"
        }
      ],
      "source": [
        "grid_search1.fit(Music_prepared, Musice_class)"
      ]
    },
    {
      "cell_type": "code",
      "execution_count": 445,
      "metadata": {
        "colab": {
          "base_uri": "https://localhost:8080/"
        },
        "id": "0OX356nHMea_",
        "outputId": "8b2fd783-76ae-44b3-9769-c90c7b52e4c1"
      },
      "outputs": [
        {
          "data": {
            "text/plain": [
              "{'bootstrap': True, 'max_features': 6, 'n_estimators': 100}"
            ]
          },
          "execution_count": 445,
          "metadata": {},
          "output_type": "execute_result"
        }
      ],
      "source": [
        "grid_search1.best_params_"
      ]
    },
    {
      "cell_type": "code",
      "execution_count": 446,
      "metadata": {
        "colab": {
          "base_uri": "https://localhost:8080/"
        },
        "id": "T5WOvo706p-7",
        "outputId": "18400d6b-6728-403d-a6e9-3eb3a19f9a14"
      },
      "outputs": [
        {
          "data": {
            "text/plain": [
              "array([0.08770061, 0.08565472, 0.08494438, 0.07935866, 0.01169396,\n",
              "       0.10783872, 0.11014761, 0.08934208, 0.06358593, 0.08532391,\n",
              "       0.06280711, 0.1256142 , 0.00598811])"
            ]
          },
          "execution_count": 446,
          "metadata": {},
          "output_type": "execute_result"
        }
      ],
      "source": [
        "feature_importances = grid_search1.best_estimator_.feature_importances_\n",
        "feature_importances"
      ]
    },
    {
      "cell_type": "code",
      "execution_count": 447,
      "metadata": {
        "colab": {
          "base_uri": "https://localhost:8080/"
        },
        "id": "xCcI6LF67x72",
        "outputId": "f15a23fd-7796-4284-f2c8-c380403cc556"
      },
      "outputs": [
        {
          "data": {
            "text/plain": [
              "Index(['Popularity', 'danceability', 'energy', 'loudness', 'mode',\n",
              "       'speechiness', 'acousticness', 'instrumentalness', 'liveness',\n",
              "       'valence', 'tempo', 'duration_in min/ms', 'time_signature', 'Class'],\n",
              "      dtype='object')"
            ]
          },
          "execution_count": 447,
          "metadata": {},
          "output_type": "execute_result"
        }
      ],
      "source": [
        "name_colo=data1.columns\n",
        "name_colo"
      ]
    },
    {
      "cell_type": "code",
      "execution_count": 448,
      "metadata": {
        "colab": {
          "base_uri": "https://localhost:8080/"
        },
        "id": "hiuUX5HX75-v",
        "outputId": "4bca7c9c-a437-428a-9618-22440e253684"
      },
      "outputs": [
        {
          "data": {
            "text/plain": [
              "[(0.12561419822564748, 'duration_in min/ms'),\n",
              " (0.1101476078430028, 'acousticness'),\n",
              " (0.1078387156503504, 'speechiness'),\n",
              " (0.08934207515628986, 'instrumentalness'),\n",
              " (0.0877006119261877, 'Popularity'),\n",
              " (0.0856547244730257, 'danceability'),\n",
              " (0.08532390815276712, 'valence'),\n",
              " (0.08494438282089917, 'energy'),\n",
              " (0.07935866077512244, 'loudness'),\n",
              " (0.06358592864883036, 'liveness'),\n",
              " (0.06280711349113707, 'tempo'),\n",
              " (0.011693961411547977, 'mode'),\n",
              " (0.005988111425191921, 'time_signature')]"
            ]
          },
          "execution_count": 448,
          "metadata": {},
          "output_type": "execute_result"
        }
      ],
      "source": [
        "sorted(zip(feature_importances, name_colo), reverse=True)"
      ]
    },
    {
      "cell_type": "code",
      "execution_count": null,
      "metadata": {
        "id": "lXGqxK0oOxy_"
      },
      "outputs": [],
      "source": [
        "y_train_pred_12 = cross_val_predict(grid_search1, Music_prepared, Musice_class, cv=3)"
      ]
    },
    {
      "cell_type": "markdown",
      "metadata": {
        "id": "ZCcmAIG0_mSz"
      },
      "source": [
        "Ensemble Learning "
      ]
    },
    {
      "cell_type": "code",
      "execution_count": 452,
      "metadata": {
        "id": "VNC-TSrNPvLe"
      },
      "outputs": [],
      "source": [
        "\n",
        "from sklearn.ensemble import VotingClassifier"
      ]
    },
    {
      "cell_type": "code",
      "execution_count": 453,
      "metadata": {
        "colab": {
          "base_uri": "https://localhost:8080/"
        },
        "id": "A7djdBiPFEwB",
        "outputId": "9b7bfb16-9f19-451f-f14c-9e74c5aeca50"
      },
      "outputs": [
        {
          "data": {
            "text/plain": [
              "VotingClassifier(estimators=[('Gb', GradientBoostingClassifier()),\n",
              "                             ('rf',\n",
              "                              GridSearchCV(cv=5,\n",
              "                                           estimator=RandomForestClassifier(),\n",
              "                                           param_grid=[{'max_features': [4, 6],\n",
              "                                                        'n_estimators': [3, 10,\n",
              "                                                                         30]},\n",
              "                                                       {'bootstrap': [True],\n",
              "                                                        'max_features': [2, 3,\n",
              "                                                                         4, 6],\n",
              "                                                        'n_estimators': [50,\n",
              "                                                                         100]}],\n",
              "                                           return_train_score=True,\n",
              "                                           scoring='f1_macro')),\n",
              "                             ('svc', SVC(probability=True)),\n",
              "                             ('XGB', XGBClassifier()),\n",
              "                             ('knn', KNeighborsClassifier(n_neighbors=11)),\n",
              "                             ('ovr_XGB',\n",
              "                              OneVsRestClassifier(estimator=XGBClassifier()))],\n",
              "                 voting='soft')"
            ]
          },
          "execution_count": 453,
          "metadata": {},
          "output_type": "execute_result"
        }
      ],
      "source": [
        "voting_clf = VotingClassifier(\n",
        "estimators=[('Gb', GB_clf), ('rf', grid_search1), ('svc', svm_clf),(\"XGB\",XGB_clr),('knn',neigh),(\"ovr_XGB\",xgb_classifier)],\n",
        "voting='soft')\n",
        "voting_clf.fit(Music_prepared, Musice_class)"
      ]
    },
    {
      "cell_type": "code",
      "execution_count": 454,
      "metadata": {
        "id": "Fn6Rt2uQFjnm"
      },
      "outputs": [],
      "source": [
        "y_train_pred_14 = cross_val_predict(voting_clf, Music_prepared, Musice_class, cv=3)"
      ]
    },
    {
      "cell_type": "code",
      "execution_count": 455,
      "metadata": {
        "colab": {
          "base_uri": "https://localhost:8080/"
        },
        "id": "24icdWDKFjqV",
        "outputId": "7305b2fc-e7e7-41a8-abf9-c6644e12ac4d"
      },
      "outputs": [
        {
          "name": "stdout",
          "output_type": "stream",
          "text": [
            "              precision    recall  f1-score   support\n",
            "\n",
            "           0       0.64      0.80      0.71       400\n",
            "           1       0.03      0.00      0.00       878\n",
            "           2       0.54      0.38      0.44       814\n",
            "           3       0.81      0.72      0.76       258\n",
            "           4       0.63      0.62      0.62       248\n",
            "           5       0.69      0.72      0.70       926\n",
            "           6       0.42      0.25      0.32      1655\n",
            "           7       0.94      0.92      0.93       369\n",
            "           8       0.63      0.50      0.56      1186\n",
            "           9       0.53      0.54      0.53      1615\n",
            "          10       0.46      0.72      0.56      3167\n",
            "\n",
            "    accuracy                           0.53     11516\n",
            "   macro avg       0.57      0.56      0.56     11516\n",
            "weighted avg       0.50      0.53      0.50     11516\n",
            "\n"
          ]
        }
      ],
      "source": [
        "print(classification_report(Musice_class, y_train_pred_14))"
      ]
    },
    {
      "cell_type": "markdown",
      "metadata": {
        "id": "ZQTrAZgLmqrc"
      },
      "source": [
        "# second level of voting \n",
        "\n"
      ]
    },
    {
      "cell_type": "code",
      "execution_count": 458,
      "metadata": {
        "colab": {
          "base_uri": "https://localhost:8080/"
        },
        "id": "vXI50hohmIZ_",
        "outputId": "f208cd47-7b29-46fa-f261-0f9689656505"
      },
      "outputs": [
        {
          "data": {
            "text/plain": [
              "VotingClassifier(estimators=[('ovr_XGB',\n",
              "                              OneVsRestClassifier(estimator=XGBClassifier())),\n",
              "                             ('ovo_XGB',\n",
              "                              OneVsOneClassifier(estimator=XGBClassifier(probability=True))),\n",
              "                             ('vot',\n",
              "                              VotingClassifier(estimators=[('Gb',\n",
              "                                                            GradientBoostingClassifier()),\n",
              "                                                           ('rf',\n",
              "                                                            GridSearchCV(cv=5,\n",
              "                                                                         estimator=RandomForestClassifier(),\n",
              "                                                                         param_grid=[{'max_features': [4,\n",
              "                                                                                                       6],\n",
              "                                                                                      'n_estimators': [3,\n",
              "                                                                                                       10,\n",
              "                                                                                                       30]},\n",
              "                                                                                     {'bootstrap': [True],\n",
              "                                                                                      'max_features': [2,\n",
              "                                                                                                       3,\n",
              "                                                                                                       4,\n",
              "                                                                                                       6],\n",
              "                                                                                      'n_estimators': [50,\n",
              "                                                                                                       100]}],\n",
              "                                                                         return_train_score=True,\n",
              "                                                                         scoring='f1_macro')),\n",
              "                                                           ('svc',\n",
              "                                                            SVC(probability=True)),\n",
              "                                                           ('XGB',\n",
              "                                                            XGBClassifier()),\n",
              "                                                           ('knn',\n",
              "                                                            KNeighborsClassifier(n_neighbors=11)),\n",
              "                                                           ('ovr_XGB',\n",
              "                                                            OneVsRestClassifier(estimator=XGBClassifier()))],\n",
              "                                               voting='soft'))])"
            ]
          },
          "execution_count": 458,
          "metadata": {},
          "output_type": "execute_result"
        }
      ],
      "source": [
        "voting_clf1 = VotingClassifier(\n",
        "estimators=[(\"ovr_XGB\",xgb_classifier),(\"ovo_XGB\",xgb_classifier1),(\"vot\",voting_clf)],\n",
        "voting='hard')\n",
        "voting_clf1.fit(Music_prepared, Musice_class)"
      ]
    },
    {
      "cell_type": "code",
      "execution_count": 459,
      "metadata": {
        "id": "x-cbp_JVmhig"
      },
      "outputs": [],
      "source": [
        "from sklearn.model_selection import cross_val_score\n",
        "y_train_pred_122 = cross_val_predict(voting_clf1, Music_prepared, Musice_class, cv=3)"
      ]
    },
    {
      "cell_type": "code",
      "execution_count": 460,
      "metadata": {
        "colab": {
          "base_uri": "https://localhost:8080/"
        },
        "id": "u5ArVvK9mkXw",
        "outputId": "916166cf-7ea3-4938-db96-87df5e292e60"
      },
      "outputs": [
        {
          "name": "stdout",
          "output_type": "stream",
          "text": [
            "              precision    recall  f1-score   support\n",
            "\n",
            "           0       0.64      0.79      0.71       400\n",
            "           1       0.05      0.00      0.00       878\n",
            "           2       0.52      0.40      0.45       814\n",
            "           3       0.80      0.72      0.76       258\n",
            "           4       0.63      0.62      0.63       248\n",
            "           5       0.68      0.72      0.70       926\n",
            "           6       0.44      0.28      0.34      1655\n",
            "           7       0.95      0.92      0.94       369\n",
            "           8       0.62      0.52      0.57      1186\n",
            "           9       0.54      0.54      0.54      1615\n",
            "          10       0.46      0.71      0.56      3167\n",
            "\n",
            "    accuracy                           0.54     11516\n",
            "   macro avg       0.58      0.57      0.56     11516\n",
            "weighted avg       0.51      0.54      0.51     11516\n",
            "\n"
          ]
        }
      ],
      "source": [
        "print(classification_report(Musice_class, y_train_pred_122))"
      ]
    },
    {
      "cell_type": "markdown",
      "metadata": {
        "id": "QdosNftGP9u3"
      },
      "source": [
        "# Evaluate the System on the Test Set"
      ]
    },
    {
      "cell_type": "markdown",
      "metadata": {
        "id": "PYclSVxHQBLH"
      },
      "source": [
        "1-get the predictors and the labels from your test set"
      ]
    },
    {
      "cell_type": "code",
      "execution_count": 509,
      "metadata": {
        "colab": {
          "base_uri": "https://localhost:8080/",
          "height": 409
        },
        "id": "R6QTygY4QLnn",
        "outputId": "1ca2185e-a6ef-45cf-827f-3fdb43219f8e"
      },
      "outputs": [
        {
          "data": {
            "text/html": [
              "\n",
              "  <div id=\"df-0dbe595d-49e1-48cb-8fb8-2832a53d0c8b\">\n",
              "    <div class=\"colab-df-container\">\n",
              "      <div>\n",
              "<style scoped>\n",
              "    .dataframe tbody tr th:only-of-type {\n",
              "        vertical-align: middle;\n",
              "    }\n",
              "\n",
              "    .dataframe tbody tr th {\n",
              "        vertical-align: top;\n",
              "    }\n",
              "\n",
              "    .dataframe thead th {\n",
              "        text-align: right;\n",
              "    }\n",
              "</style>\n",
              "<table border=\"1\" class=\"dataframe\">\n",
              "  <thead>\n",
              "    <tr style=\"text-align: right;\">\n",
              "      <th></th>\n",
              "      <th>Id</th>\n",
              "      <th>Artist Name</th>\n",
              "      <th>Track Name</th>\n",
              "      <th>Popularity</th>\n",
              "      <th>danceability</th>\n",
              "      <th>energy</th>\n",
              "      <th>key</th>\n",
              "      <th>loudness</th>\n",
              "      <th>mode</th>\n",
              "      <th>speechiness</th>\n",
              "      <th>acousticness</th>\n",
              "      <th>instrumentalness</th>\n",
              "      <th>liveness</th>\n",
              "      <th>valence</th>\n",
              "      <th>tempo</th>\n",
              "      <th>duration_in min/ms</th>\n",
              "      <th>time_signature</th>\n",
              "    </tr>\n",
              "  </thead>\n",
              "  <tbody>\n",
              "    <tr>\n",
              "      <th>0</th>\n",
              "      <td>14397</td>\n",
              "      <td>Juan Pablo Vega</td>\n",
              "      <td>Matando (feat. Vic Mirallas)</td>\n",
              "      <td>NaN</td>\n",
              "      <td>0.691</td>\n",
              "      <td>0.670</td>\n",
              "      <td>2.0</td>\n",
              "      <td>-7.093</td>\n",
              "      <td>0</td>\n",
              "      <td>0.0941</td>\n",
              "      <td>0.075700</td>\n",
              "      <td>0.035200</td>\n",
              "      <td>0.1970</td>\n",
              "      <td>0.635</td>\n",
              "      <td>89.965</td>\n",
              "      <td>200000.0</td>\n",
              "      <td>4</td>\n",
              "    </tr>\n",
              "    <tr>\n",
              "      <th>1</th>\n",
              "      <td>14398</td>\n",
              "      <td>Kappi Kat</td>\n",
              "      <td>Baarish</td>\n",
              "      <td>14.0</td>\n",
              "      <td>0.461</td>\n",
              "      <td>0.777</td>\n",
              "      <td>2.0</td>\n",
              "      <td>-7.469</td>\n",
              "      <td>1</td>\n",
              "      <td>0.0306</td>\n",
              "      <td>0.388000</td>\n",
              "      <td>0.923000</td>\n",
              "      <td>0.2910</td>\n",
              "      <td>0.525</td>\n",
              "      <td>163.043</td>\n",
              "      <td>283909.0</td>\n",
              "      <td>4</td>\n",
              "    </tr>\n",
              "    <tr>\n",
              "      <th>2</th>\n",
              "      <td>14399</td>\n",
              "      <td>Plain White T's</td>\n",
              "      <td>Hey There Delilah</td>\n",
              "      <td>80.0</td>\n",
              "      <td>0.656</td>\n",
              "      <td>0.291</td>\n",
              "      <td>2.0</td>\n",
              "      <td>-10.572</td>\n",
              "      <td>1</td>\n",
              "      <td>0.0293</td>\n",
              "      <td>0.872000</td>\n",
              "      <td>NaN</td>\n",
              "      <td>0.1140</td>\n",
              "      <td>0.298</td>\n",
              "      <td>103.971</td>\n",
              "      <td>232533.0</td>\n",
              "      <td>4</td>\n",
              "    </tr>\n",
              "    <tr>\n",
              "      <th>3</th>\n",
              "      <td>14400</td>\n",
              "      <td>WALK THE MOON</td>\n",
              "      <td>Different Colors</td>\n",
              "      <td>52.0</td>\n",
              "      <td>0.480</td>\n",
              "      <td>0.826</td>\n",
              "      <td>NaN</td>\n",
              "      <td>-4.602</td>\n",
              "      <td>1</td>\n",
              "      <td>0.0397</td>\n",
              "      <td>0.000797</td>\n",
              "      <td>0.000001</td>\n",
              "      <td>0.1250</td>\n",
              "      <td>0.687</td>\n",
              "      <td>96.000</td>\n",
              "      <td>222053.0</td>\n",
              "      <td>4</td>\n",
              "    </tr>\n",
              "    <tr>\n",
              "      <th>4</th>\n",
              "      <td>14401</td>\n",
              "      <td>Peled</td>\n",
              "      <td>◊ß◊®◊ô◊ñ</td>\n",
              "      <td>23.0</td>\n",
              "      <td>0.734</td>\n",
              "      <td>0.729</td>\n",
              "      <td>1.0</td>\n",
              "      <td>-6.381</td>\n",
              "      <td>0</td>\n",
              "      <td>0.2830</td>\n",
              "      <td>0.147000</td>\n",
              "      <td>NaN</td>\n",
              "      <td>0.0672</td>\n",
              "      <td>0.805</td>\n",
              "      <td>76.030</td>\n",
              "      <td>118439.0</td>\n",
              "      <td>4</td>\n",
              "    </tr>\n",
              "  </tbody>\n",
              "</table>\n",
              "</div>\n",
              "      <button class=\"colab-df-convert\" onclick=\"convertToInteractive('df-0dbe595d-49e1-48cb-8fb8-2832a53d0c8b')\"\n",
              "              title=\"Convert this dataframe to an interactive table.\"\n",
              "              style=\"display:none;\">\n",
              "        \n",
              "  <svg xmlns=\"http://www.w3.org/2000/svg\" height=\"24px\"viewBox=\"0 0 24 24\"\n",
              "       width=\"24px\">\n",
              "    <path d=\"M0 0h24v24H0V0z\" fill=\"none\"/>\n",
              "    <path d=\"M18.56 5.44l.94 2.06.94-2.06 2.06-.94-2.06-.94-.94-2.06-.94 2.06-2.06.94zm-11 1L8.5 8.5l.94-2.06 2.06-.94-2.06-.94L8.5 2.5l-.94 2.06-2.06.94zm10 10l.94 2.06.94-2.06 2.06-.94-2.06-.94-.94-2.06-.94 2.06-2.06.94z\"/><path d=\"M17.41 7.96l-1.37-1.37c-.4-.4-.92-.59-1.43-.59-.52 0-1.04.2-1.43.59L10.3 9.45l-7.72 7.72c-.78.78-.78 2.05 0 2.83L4 21.41c.39.39.9.59 1.41.59.51 0 1.02-.2 1.41-.59l7.78-7.78 2.81-2.81c.8-.78.8-2.07 0-2.86zM5.41 20L4 18.59l7.72-7.72 1.47 1.35L5.41 20z\"/>\n",
              "  </svg>\n",
              "      </button>\n",
              "      \n",
              "  <style>\n",
              "    .colab-df-container {\n",
              "      display:flex;\n",
              "      flex-wrap:wrap;\n",
              "      gap: 12px;\n",
              "    }\n",
              "\n",
              "    .colab-df-convert {\n",
              "      background-color: #E8F0FE;\n",
              "      border: none;\n",
              "      border-radius: 50%;\n",
              "      cursor: pointer;\n",
              "      display: none;\n",
              "      fill: #1967D2;\n",
              "      height: 32px;\n",
              "      padding: 0 0 0 0;\n",
              "      width: 32px;\n",
              "    }\n",
              "\n",
              "    .colab-df-convert:hover {\n",
              "      background-color: #E2EBFA;\n",
              "      box-shadow: 0px 1px 2px rgba(60, 64, 67, 0.3), 0px 1px 3px 1px rgba(60, 64, 67, 0.15);\n",
              "      fill: #174EA6;\n",
              "    }\n",
              "\n",
              "    [theme=dark] .colab-df-convert {\n",
              "      background-color: #3B4455;\n",
              "      fill: #D2E3FC;\n",
              "    }\n",
              "\n",
              "    [theme=dark] .colab-df-convert:hover {\n",
              "      background-color: #434B5C;\n",
              "      box-shadow: 0px 1px 3px 1px rgba(0, 0, 0, 0.15);\n",
              "      filter: drop-shadow(0px 1px 2px rgba(0, 0, 0, 0.3));\n",
              "      fill: #FFFFFF;\n",
              "    }\n",
              "  </style>\n",
              "\n",
              "      <script>\n",
              "        const buttonEl =\n",
              "          document.querySelector('#df-0dbe595d-49e1-48cb-8fb8-2832a53d0c8b button.colab-df-convert');\n",
              "        buttonEl.style.display =\n",
              "          google.colab.kernel.accessAllowed ? 'block' : 'none';\n",
              "\n",
              "        async function convertToInteractive(key) {\n",
              "          const element = document.querySelector('#df-0dbe595d-49e1-48cb-8fb8-2832a53d0c8b');\n",
              "          const dataTable =\n",
              "            await google.colab.kernel.invokeFunction('convertToInteractive',\n",
              "                                                     [key], {});\n",
              "          if (!dataTable) return;\n",
              "\n",
              "          const docLinkHtml = 'Like what you see? Visit the ' +\n",
              "            '<a target=\"_blank\" href=https://colab.research.google.com/notebooks/data_table.ipynb>data table notebook</a>'\n",
              "            + ' to learn more about interactive tables.';\n",
              "          element.innerHTML = '';\n",
              "          dataTable['output_type'] = 'display_data';\n",
              "          await google.colab.output.renderOutput(dataTable, element);\n",
              "          const docLink = document.createElement('div');\n",
              "          docLink.innerHTML = docLinkHtml;\n",
              "          element.appendChild(docLink);\n",
              "        }\n",
              "      </script>\n",
              "    </div>\n",
              "  </div>\n",
              "  "
            ],
            "text/plain": [
              "      Id      Artist Name                    Track Name  Popularity  \\\n",
              "0  14397  Juan Pablo Vega  Matando (feat. Vic Mirallas)         NaN   \n",
              "1  14398        Kappi Kat                       Baarish        14.0   \n",
              "2  14399  Plain White T's             Hey There Delilah        80.0   \n",
              "3  14400    WALK THE MOON              Different Colors        52.0   \n",
              "4  14401            Peled                      ◊ß◊®◊ô◊ñ        23.0   \n",
              "\n",
              "   danceability  energy  key  loudness  mode  speechiness  acousticness  \\\n",
              "0         0.691   0.670  2.0    -7.093     0       0.0941      0.075700   \n",
              "1         0.461   0.777  2.0    -7.469     1       0.0306      0.388000   \n",
              "2         0.656   0.291  2.0   -10.572     1       0.0293      0.872000   \n",
              "3         0.480   0.826  NaN    -4.602     1       0.0397      0.000797   \n",
              "4         0.734   0.729  1.0    -6.381     0       0.2830      0.147000   \n",
              "\n",
              "   instrumentalness  liveness  valence    tempo  duration_in min/ms  \\\n",
              "0          0.035200    0.1970    0.635   89.965            200000.0   \n",
              "1          0.923000    0.2910    0.525  163.043            283909.0   \n",
              "2               NaN    0.1140    0.298  103.971            232533.0   \n",
              "3          0.000001    0.1250    0.687   96.000            222053.0   \n",
              "4               NaN    0.0672    0.805   76.030            118439.0   \n",
              "\n",
              "   time_signature  \n",
              "0               4  \n",
              "1               4  \n",
              "2               4  \n",
              "3               4  \n",
              "4               4  "
            ]
          },
          "execution_count": 509,
          "metadata": {},
          "output_type": "execute_result"
        }
      ],
      "source": [
        "test_set=pd.read_csv(\"test.csv\")\n",
        "test_set.head()"
      ]
    },
    {
      "cell_type": "code",
      "execution_count": 510,
      "metadata": {
        "id": "bM7VWYbSPvR3"
      },
      "outputs": [],
      "source": [
        "\n",
        "final_model=voting_clf1\n",
        "test_set1 = test_set.copy()\n",
        "\n",
        "\n"
      ]
    },
    {
      "cell_type": "code",
      "execution_count": 493,
      "metadata": {
        "id": "SD2cjwEFK8wO"
      },
      "outputs": [],
      "source": [
        "test_set1=X_test\n",
        "test_label=y_test"
      ]
    },
    {
      "cell_type": "code",
      "execution_count": 511,
      "metadata": {
        "colab": {
          "base_uri": "https://localhost:8080/"
        },
        "id": "6LtfFQFURkA3",
        "outputId": "05c497a8-a338-4fad-dd74-30598c0a61d6"
      },
      "outputs": [
        {
          "data": {
            "text/plain": [
              "(3600, 17)"
            ]
          },
          "execution_count": 511,
          "metadata": {},
          "output_type": "execute_result"
        }
      ],
      "source": [
        "test_set1.shape"
      ]
    },
    {
      "cell_type": "markdown",
      "metadata": {
        "id": "qD3SbylXSO4z"
      },
      "source": [
        "### A- Data Cleaning:"
      ]
    },
    {
      "cell_type": "code",
      "execution_count": 512,
      "metadata": {
        "id": "VB7zFciVRkM8"
      },
      "outputs": [],
      "source": [
        "#Popularity\n",
        "mean_pop_test=test_set1[\"Popularity\"].mean()\n",
        "test_set1=test_set1.fillna({\"Popularity\":mean_pop_test})"
      ]
    },
    {
      "cell_type": "code",
      "execution_count": 513,
      "metadata": {
        "id": "mD1ym-ZmRkPq"
      },
      "outputs": [],
      "source": [
        "#key\n",
        "from statistics import mode\n",
        "mode_key_test=mode(test_set1[\"key\"])\n",
        "test_set1=test_set1.fillna({\"key\":mode_key})"
      ]
    },
    {
      "cell_type": "code",
      "execution_count": 514,
      "metadata": {
        "id": "EYu3C0KHRkR9"
      },
      "outputs": [],
      "source": [
        "#instrumentalness\n",
        "mean_instrumen_test=test_set1[\"instrumentalness\"].mean()\n",
        "test_set1=test_set1.fillna({\"instrumentalness\":mean_instrumen_test})"
      ]
    },
    {
      "cell_type": "markdown",
      "metadata": {
        "id": "ooLkT-SsTI4t"
      },
      "source": [
        "B-feature engineering;"
      ]
    },
    {
      "cell_type": "code",
      "execution_count": 515,
      "metadata": {
        "id": "o9mF1qXxRCiI"
      },
      "outputs": [],
      "source": [
        "test_set1['duration_in min/ms']=test_set1['duration_in min/ms']/1000"
      ]
    },
    {
      "cell_type": "code",
      "execution_count": 516,
      "metadata": {
        "id": "26Fa8o_aqUq1"
      },
      "outputs": [],
      "source": [
        "test_set1[\"loudness\"]=test_set1[\"loudness\"]*-1"
      ]
    },
    {
      "cell_type": "code",
      "execution_count": 517,
      "metadata": {
        "colab": {
          "base_uri": "https://localhost:8080/",
          "height": 288
        },
        "id": "UPAV-BrvTNQ3",
        "outputId": "9d873d30-798b-4435-c0ec-ee5942cab357"
      },
      "outputs": [
        {
          "data": {
            "text/html": [
              "\n",
              "  <div id=\"df-73908de8-4361-423c-b9d4-01fbdaefc803\">\n",
              "    <div class=\"colab-df-container\">\n",
              "      <div>\n",
              "<style scoped>\n",
              "    .dataframe tbody tr th:only-of-type {\n",
              "        vertical-align: middle;\n",
              "    }\n",
              "\n",
              "    .dataframe tbody tr th {\n",
              "        vertical-align: top;\n",
              "    }\n",
              "\n",
              "    .dataframe thead th {\n",
              "        text-align: right;\n",
              "    }\n",
              "</style>\n",
              "<table border=\"1\" class=\"dataframe\">\n",
              "  <thead>\n",
              "    <tr style=\"text-align: right;\">\n",
              "      <th></th>\n",
              "      <th>Popularity</th>\n",
              "      <th>danceability</th>\n",
              "      <th>energy</th>\n",
              "      <th>loudness</th>\n",
              "      <th>mode</th>\n",
              "      <th>speechiness</th>\n",
              "      <th>acousticness</th>\n",
              "      <th>instrumentalness</th>\n",
              "      <th>liveness</th>\n",
              "      <th>valence</th>\n",
              "      <th>tempo</th>\n",
              "      <th>duration_in min/ms</th>\n",
              "      <th>time_signature</th>\n",
              "    </tr>\n",
              "  </thead>\n",
              "  <tbody>\n",
              "    <tr>\n",
              "      <th>0</th>\n",
              "      <td>44.459629</td>\n",
              "      <td>0.691</td>\n",
              "      <td>0.670</td>\n",
              "      <td>7.093</td>\n",
              "      <td>0</td>\n",
              "      <td>0.0941</td>\n",
              "      <td>0.075700</td>\n",
              "      <td>0.035200</td>\n",
              "      <td>0.1970</td>\n",
              "      <td>0.635</td>\n",
              "      <td>89.965</td>\n",
              "      <td>200.000</td>\n",
              "      <td>4</td>\n",
              "    </tr>\n",
              "    <tr>\n",
              "      <th>1</th>\n",
              "      <td>14.000000</td>\n",
              "      <td>0.461</td>\n",
              "      <td>0.777</td>\n",
              "      <td>7.469</td>\n",
              "      <td>1</td>\n",
              "      <td>0.0306</td>\n",
              "      <td>0.388000</td>\n",
              "      <td>0.923000</td>\n",
              "      <td>0.2910</td>\n",
              "      <td>0.525</td>\n",
              "      <td>163.043</td>\n",
              "      <td>283.909</td>\n",
              "      <td>4</td>\n",
              "    </tr>\n",
              "    <tr>\n",
              "      <th>2</th>\n",
              "      <td>80.000000</td>\n",
              "      <td>0.656</td>\n",
              "      <td>0.291</td>\n",
              "      <td>10.572</td>\n",
              "      <td>1</td>\n",
              "      <td>0.0293</td>\n",
              "      <td>0.872000</td>\n",
              "      <td>0.175336</td>\n",
              "      <td>0.1140</td>\n",
              "      <td>0.298</td>\n",
              "      <td>103.971</td>\n",
              "      <td>232.533</td>\n",
              "      <td>4</td>\n",
              "    </tr>\n",
              "    <tr>\n",
              "      <th>3</th>\n",
              "      <td>52.000000</td>\n",
              "      <td>0.480</td>\n",
              "      <td>0.826</td>\n",
              "      <td>4.602</td>\n",
              "      <td>1</td>\n",
              "      <td>0.0397</td>\n",
              "      <td>0.000797</td>\n",
              "      <td>0.000001</td>\n",
              "      <td>0.1250</td>\n",
              "      <td>0.687</td>\n",
              "      <td>96.000</td>\n",
              "      <td>222.053</td>\n",
              "      <td>4</td>\n",
              "    </tr>\n",
              "    <tr>\n",
              "      <th>4</th>\n",
              "      <td>23.000000</td>\n",
              "      <td>0.734</td>\n",
              "      <td>0.729</td>\n",
              "      <td>6.381</td>\n",
              "      <td>0</td>\n",
              "      <td>0.2830</td>\n",
              "      <td>0.147000</td>\n",
              "      <td>0.175336</td>\n",
              "      <td>0.0672</td>\n",
              "      <td>0.805</td>\n",
              "      <td>76.030</td>\n",
              "      <td>118.439</td>\n",
              "      <td>4</td>\n",
              "    </tr>\n",
              "  </tbody>\n",
              "</table>\n",
              "</div>\n",
              "      <button class=\"colab-df-convert\" onclick=\"convertToInteractive('df-73908de8-4361-423c-b9d4-01fbdaefc803')\"\n",
              "              title=\"Convert this dataframe to an interactive table.\"\n",
              "              style=\"display:none;\">\n",
              "        \n",
              "  <svg xmlns=\"http://www.w3.org/2000/svg\" height=\"24px\"viewBox=\"0 0 24 24\"\n",
              "       width=\"24px\">\n",
              "    <path d=\"M0 0h24v24H0V0z\" fill=\"none\"/>\n",
              "    <path d=\"M18.56 5.44l.94 2.06.94-2.06 2.06-.94-2.06-.94-.94-2.06-.94 2.06-2.06.94zm-11 1L8.5 8.5l.94-2.06 2.06-.94-2.06-.94L8.5 2.5l-.94 2.06-2.06.94zm10 10l.94 2.06.94-2.06 2.06-.94-2.06-.94-.94-2.06-.94 2.06-2.06.94z\"/><path d=\"M17.41 7.96l-1.37-1.37c-.4-.4-.92-.59-1.43-.59-.52 0-1.04.2-1.43.59L10.3 9.45l-7.72 7.72c-.78.78-.78 2.05 0 2.83L4 21.41c.39.39.9.59 1.41.59.51 0 1.02-.2 1.41-.59l7.78-7.78 2.81-2.81c.8-.78.8-2.07 0-2.86zM5.41 20L4 18.59l7.72-7.72 1.47 1.35L5.41 20z\"/>\n",
              "  </svg>\n",
              "      </button>\n",
              "      \n",
              "  <style>\n",
              "    .colab-df-container {\n",
              "      display:flex;\n",
              "      flex-wrap:wrap;\n",
              "      gap: 12px;\n",
              "    }\n",
              "\n",
              "    .colab-df-convert {\n",
              "      background-color: #E8F0FE;\n",
              "      border: none;\n",
              "      border-radius: 50%;\n",
              "      cursor: pointer;\n",
              "      display: none;\n",
              "      fill: #1967D2;\n",
              "      height: 32px;\n",
              "      padding: 0 0 0 0;\n",
              "      width: 32px;\n",
              "    }\n",
              "\n",
              "    .colab-df-convert:hover {\n",
              "      background-color: #E2EBFA;\n",
              "      box-shadow: 0px 1px 2px rgba(60, 64, 67, 0.3), 0px 1px 3px 1px rgba(60, 64, 67, 0.15);\n",
              "      fill: #174EA6;\n",
              "    }\n",
              "\n",
              "    [theme=dark] .colab-df-convert {\n",
              "      background-color: #3B4455;\n",
              "      fill: #D2E3FC;\n",
              "    }\n",
              "\n",
              "    [theme=dark] .colab-df-convert:hover {\n",
              "      background-color: #434B5C;\n",
              "      box-shadow: 0px 1px 3px 1px rgba(0, 0, 0, 0.15);\n",
              "      filter: drop-shadow(0px 1px 2px rgba(0, 0, 0, 0.3));\n",
              "      fill: #FFFFFF;\n",
              "    }\n",
              "  </style>\n",
              "\n",
              "      <script>\n",
              "        const buttonEl =\n",
              "          document.querySelector('#df-73908de8-4361-423c-b9d4-01fbdaefc803 button.colab-df-convert');\n",
              "        buttonEl.style.display =\n",
              "          google.colab.kernel.accessAllowed ? 'block' : 'none';\n",
              "\n",
              "        async function convertToInteractive(key) {\n",
              "          const element = document.querySelector('#df-73908de8-4361-423c-b9d4-01fbdaefc803');\n",
              "          const dataTable =\n",
              "            await google.colab.kernel.invokeFunction('convertToInteractive',\n",
              "                                                     [key], {});\n",
              "          if (!dataTable) return;\n",
              "\n",
              "          const docLinkHtml = 'Like what you see? Visit the ' +\n",
              "            '<a target=\"_blank\" href=https://colab.research.google.com/notebooks/data_table.ipynb>data table notebook</a>'\n",
              "            + ' to learn more about interactive tables.';\n",
              "          element.innerHTML = '';\n",
              "          dataTable['output_type'] = 'display_data';\n",
              "          await google.colab.output.renderOutput(dataTable, element);\n",
              "          const docLink = document.createElement('div');\n",
              "          docLink.innerHTML = docLinkHtml;\n",
              "          element.appendChild(docLink);\n",
              "        }\n",
              "      </script>\n",
              "    </div>\n",
              "  </div>\n",
              "  "
            ],
            "text/plain": [
              "   Popularity  danceability  energy  loudness  mode  speechiness  \\\n",
              "0   44.459629         0.691   0.670     7.093     0       0.0941   \n",
              "1   14.000000         0.461   0.777     7.469     1       0.0306   \n",
              "2   80.000000         0.656   0.291    10.572     1       0.0293   \n",
              "3   52.000000         0.480   0.826     4.602     1       0.0397   \n",
              "4   23.000000         0.734   0.729     6.381     0       0.2830   \n",
              "\n",
              "   acousticness  instrumentalness  liveness  valence    tempo  \\\n",
              "0      0.075700          0.035200    0.1970    0.635   89.965   \n",
              "1      0.388000          0.923000    0.2910    0.525  163.043   \n",
              "2      0.872000          0.175336    0.1140    0.298  103.971   \n",
              "3      0.000797          0.000001    0.1250    0.687   96.000   \n",
              "4      0.147000          0.175336    0.0672    0.805   76.030   \n",
              "\n",
              "   duration_in min/ms  time_signature  \n",
              "0             200.000               4  \n",
              "1             283.909               4  \n",
              "2             232.533               4  \n",
              "3             222.053               4  \n",
              "4             118.439               4  "
            ]
          },
          "execution_count": 517,
          "metadata": {},
          "output_type": "execute_result"
        }
      ],
      "source": [
        "test_set1=test_set1.drop(['Id', 'Artist Name', 'Track Name',\"key\"],axis=1)\n",
        "test_set1.head()"
      ]
    },
    {
      "cell_type": "markdown",
      "metadata": {
        "id": "3_nvU_3NTV6D"
      },
      "source": [
        "C- Scaling"
      ]
    },
    {
      "cell_type": "code",
      "execution_count": 518,
      "metadata": {
        "colab": {
          "base_uri": "https://localhost:8080/"
        },
        "id": "QiWzLebMTPpv",
        "outputId": "86501376-b2a8-479b-917e-1f9ebc518b85"
      },
      "outputs": [
        {
          "data": {
            "text/plain": [
              "array([[-4.12460277e-16,  8.64223684e-01,  2.49090515e-02, ...,\n",
              "        -1.08984556e+00, -2.95613931e-02,  2.08773908e-01],\n",
              "       [-1.76813954e+00, -4.94844406e-01,  4.84181421e-01, ...,\n",
              "         1.37056778e+00,  7.12054122e-01,  2.08773908e-01],\n",
              "       [ 2.06306961e+00,  6.57408975e-01, -1.60185943e+00, ...,\n",
              "        -6.18287096e-01,  2.57976029e-01,  2.08773908e-01],\n",
              "       ...,\n",
              "       [-1.53594504e+00,  1.40785092e+00,  6.68748822e-01, ...,\n",
              "         2.24902260e-01,  1.20084918e+00,  2.08773908e-01],\n",
              "       [-3.74972577e-01, -6.01206257e-01, -1.12971027e+00, ...,\n",
              "         1.54449832e+00, -1.83463251e-01, -2.49477311e+00],\n",
              "       [ 1.42453475e+00,  7.69679817e-01,  7.03086943e-01, ...,\n",
              "        -3.57094598e-03, -1.37981199e-01,  2.08773908e-01]])"
            ]
          },
          "execution_count": 518,
          "metadata": {},
          "output_type": "execute_result"
        }
      ],
      "source": [
        "from sklearn.pipeline import Pipeline\n",
        "from sklearn.preprocessing import StandardScaler\n",
        "\n",
        "# CODE HERE\n",
        "num_pipeline = Pipeline([('std_scaler', StandardScaler())])\n",
        "\n",
        "Music_num_tr_test = num_pipeline.fit_transform(test_set1)\n",
        "Music_num_tr_test"
      ]
    },
    {
      "cell_type": "markdown",
      "metadata": {},
      "source": [
        "# check the result"
      ]
    },
    {
      "cell_type": "code",
      "execution_count": 519,
      "metadata": {
        "id": "PMxOJLnkToC_"
      },
      "outputs": [],
      "source": [
        "final_predictions = final_model.predict(Music_num_tr_test)\n"
      ]
    },
    {
      "cell_type": "code",
      "execution_count": null,
      "metadata": {
        "colab": {
          "base_uri": "https://localhost:8080/",
          "height": 311
        },
        "id": "TnzIsMF9LWlP",
        "outputId": "3dc0b645-2591-46f7-d747-f762143e6820"
      },
      "outputs": [],
      "source": [
        "print(classification_report(y_test,final_predictions))"
      ]
    },
    {
      "cell_type": "code",
      "execution_count": 521,
      "metadata": {
        "id": "33GyfIowTuV3"
      },
      "outputs": [],
      "source": [
        "pred=pd.DataFrame({\"Id\":test_set[\"Id\"],\"Class\":final_predictions})"
      ]
    },
    {
      "cell_type": "code",
      "execution_count": 522,
      "metadata": {
        "id": "CVlt5cu9TwJ-"
      },
      "outputs": [],
      "source": [
        "pred.to_csv(\"submission.csv\",index=False)"
      ]
    },
    {
      "cell_type": "code",
      "execution_count": 522,
      "metadata": {
        "id": "kJ8W31nOT7Te"
      },
      "outputs": [],
      "source": []
    }
  ],
  "metadata": {
    "accelerator": "GPU",
    "colab": {
      "collapsed_sections": [
        "fVm4ibZPSR-T",
        "cNqMZ9UrUFpS"
      ],
      "name": "best_Music_Genre_Classification.ipynb",
      "provenance": []
    },
    "gpuClass": "standard",
    "kernelspec": {
      "display_name": "Python 3",
      "name": "python3"
    },
    "language_info": {
      "name": "python"
    }
  },
  "nbformat": 4,
  "nbformat_minor": 0
}
